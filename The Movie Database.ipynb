{
 "cells": [
  {
   "cell_type": "code",
   "execution_count": 1,
   "id": "f267eea9",
   "metadata": {},
   "outputs": [],
   "source": [
    "%reload_ext sql"
   ]
  },
  {
   "cell_type": "code",
   "execution_count": 2,
   "id": "adc7d321",
   "metadata": {},
   "outputs": [
    {
     "data": {
      "text/html": [
       "<span style=\"None\">Connecting to &#x27;sqlite:///TMDB-a-4006.db&#x27;</span>"
      ],
      "text/plain": [
       "Connecting to 'sqlite:///TMDB-a-4006.db'"
      ]
     },
     "metadata": {},
     "output_type": "display_data"
    }
   ],
   "source": [
    "%sql sqlite:///TMDB-a-4006.db"
   ]
  },
  {
   "cell_type": "code",
   "execution_count": null,
   "id": "ff81c131",
   "metadata": {},
   "outputs": [],
   "source": [
    "Who won the Oscar for “Actor in a Leading Role” in 2015?"
   ]
  },
  {
   "cell_type": "code",
   "execution_count": 14,
   "id": "924d2c3c",
   "metadata": {},
   "outputs": [
    {
     "data": {
      "text/html": [
       "<span style=\"None\">Running query in &#x27;sqlite:///TMDB-a-4006.db&#x27;</span>"
      ],
      "text/plain": [
       "Running query in 'sqlite:///TMDB-a-4006.db'"
      ]
     },
     "metadata": {},
     "output_type": "display_data"
    },
    {
     "data": {
      "text/html": [
       "<table>\n",
       "    <thead>\n",
       "        <tr>\n",
       "            <th>year</th>\n",
       "            <th>award</th>\n",
       "            <th>winner</th>\n",
       "            <th>name</th>\n",
       "            <th>film</th>\n",
       "        </tr>\n",
       "    </thead>\n",
       "    <tbody>\n",
       "        <tr>\n",
       "            <td>1928</td>\n",
       "            <td>Actor</td>\n",
       "            <td>None</td>\n",
       "            <td>Richard Barthelmess</td>\n",
       "            <td>The Noose</td>\n",
       "        </tr>\n",
       "        <tr>\n",
       "            <td>1928</td>\n",
       "            <td>Actor</td>\n",
       "            <td>1.0</td>\n",
       "            <td>Emil Jannings</td>\n",
       "            <td>The Last Command</td>\n",
       "        </tr>\n",
       "        <tr>\n",
       "            <td>1928</td>\n",
       "            <td>Actress</td>\n",
       "            <td>None</td>\n",
       "            <td>Louise Dresser</td>\n",
       "            <td>A Ship Comes In</td>\n",
       "        </tr>\n",
       "        <tr>\n",
       "            <td>1928</td>\n",
       "            <td>Actress</td>\n",
       "            <td>1.0</td>\n",
       "            <td>Janet Gaynor</td>\n",
       "            <td>7th Heaven</td>\n",
       "        </tr>\n",
       "        <tr>\n",
       "            <td>1928</td>\n",
       "            <td>Actress</td>\n",
       "            <td>None</td>\n",
       "            <td>Gloria Swanson</td>\n",
       "            <td>Sadie Thompson</td>\n",
       "        </tr>\n",
       "        <tr>\n",
       "            <td>1928</td>\n",
       "            <td>Art Direction</td>\n",
       "            <td>None</td>\n",
       "            <td>Rochus Gliese</td>\n",
       "            <td>Sunrise</td>\n",
       "        </tr>\n",
       "        <tr>\n",
       "            <td>1928</td>\n",
       "            <td>Art Direction</td>\n",
       "            <td>1.0</td>\n",
       "            <td>William Cameron Menzies</td>\n",
       "            <td>The Dove; Tempest</td>\n",
       "        </tr>\n",
       "        <tr>\n",
       "            <td>1928</td>\n",
       "            <td>Art Direction</td>\n",
       "            <td>None</td>\n",
       "            <td>Harry Oliver</td>\n",
       "            <td>7th Heaven</td>\n",
       "        </tr>\n",
       "        <tr>\n",
       "            <td>1928</td>\n",
       "            <td>Cinematography</td>\n",
       "            <td>None</td>\n",
       "            <td>George Barnes</td>\n",
       "            <td>The Devil Dancer; The Magic Flame; Sadie Thompson</td>\n",
       "        </tr>\n",
       "        <tr>\n",
       "            <td>1928</td>\n",
       "            <td>Cinematography</td>\n",
       "            <td>1.0</td>\n",
       "            <td>Charles Rosher</td>\n",
       "            <td>Sunrise</td>\n",
       "        </tr>\n",
       "    </tbody>\n",
       "</table>\n",
       "<span style=\"font-style:italic;text-align:center;\">Truncated to <a href=\"https://jupysql.ploomber.io/en/latest/api/configuration.html#displaylimit\">displaylimit</a> of 10.</span>"
      ],
      "text/plain": [
       "+------+----------------+--------+-------------------------+---------------------------------------------------+\n",
       "| year |     award      | winner |           name          |                        film                       |\n",
       "+------+----------------+--------+-------------------------+---------------------------------------------------+\n",
       "| 1928 |     Actor      |  None  |   Richard Barthelmess   |                     The Noose                     |\n",
       "| 1928 |     Actor      |  1.0   |      Emil Jannings      |                  The Last Command                 |\n",
       "| 1928 |    Actress     |  None  |      Louise Dresser     |                  A Ship Comes In                  |\n",
       "| 1928 |    Actress     |  1.0   |       Janet Gaynor      |                     7th Heaven                    |\n",
       "| 1928 |    Actress     |  None  |      Gloria Swanson     |                   Sadie Thompson                  |\n",
       "| 1928 | Art Direction  |  None  |      Rochus Gliese      |                      Sunrise                      |\n",
       "| 1928 | Art Direction  |  1.0   | William Cameron Menzies |                 The Dove; Tempest                 |\n",
       "| 1928 | Art Direction  |  None  |       Harry Oliver      |                     7th Heaven                    |\n",
       "| 1928 | Cinematography |  None  |      George Barnes      | The Devil Dancer; The Magic Flame; Sadie Thompson |\n",
       "| 1928 | Cinematography |  1.0   |      Charles Rosher     |                      Sunrise                      |\n",
       "+------+----------------+--------+-------------------------+---------------------------------------------------+\n",
       "Truncated to displaylimit of 10."
      ]
     },
     "execution_count": 14,
     "metadata": {},
     "output_type": "execute_result"
    }
   ],
   "source": [
    "%%sql\n",
    "SELECT *\n",
    "FROM oscars;"
   ]
  },
  {
   "cell_type": "code",
   "execution_count": null,
   "id": "933b0589",
   "metadata": {},
   "outputs": [],
   "source": [
    "Who won the Oscar for “Actor in a Leading Role” in 2015?"
   ]
  },
  {
   "cell_type": "code",
   "execution_count": 18,
   "id": "70eb39e3",
   "metadata": {},
   "outputs": [
    {
     "data": {
      "text/html": [
       "<span style=\"None\">Running query in &#x27;sqlite:///TMDB-a-4006.db&#x27;</span>"
      ],
      "text/plain": [
       "Running query in 'sqlite:///TMDB-a-4006.db'"
      ]
     },
     "metadata": {},
     "output_type": "display_data"
    },
    {
     "data": {
      "text/html": [
       "<table>\n",
       "    <thead>\n",
       "        <tr>\n",
       "            <th>year</th>\n",
       "            <th>award</th>\n",
       "            <th>winner</th>\n",
       "            <th>name</th>\n",
       "            <th>film</th>\n",
       "        </tr>\n",
       "    </thead>\n",
       "    <tbody>\n",
       "        <tr>\n",
       "            <td>2015</td>\n",
       "            <td>Actor in a Leading Role</td>\n",
       "            <td>1.0</td>\n",
       "            <td>Leonardo DiCaprio</td>\n",
       "            <td>The Revenant</td>\n",
       "        </tr>\n",
       "        <tr>\n",
       "            <td>2015</td>\n",
       "            <td>Actress in a Leading Role</td>\n",
       "            <td>1.0</td>\n",
       "            <td>Brie Larson</td>\n",
       "            <td>Room</td>\n",
       "        </tr>\n",
       "    </tbody>\n",
       "</table>"
      ],
      "text/plain": [
       "+------+---------------------------+--------+-------------------+--------------+\n",
       "| year |           award           | winner |        name       |     film     |\n",
       "+------+---------------------------+--------+-------------------+--------------+\n",
       "| 2015 |  Actor in a Leading Role  |  1.0   | Leonardo DiCaprio | The Revenant |\n",
       "| 2015 | Actress in a Leading Role |  1.0   |    Brie Larson    |     Room     |\n",
       "+------+---------------------------+--------+-------------------+--------------+"
      ]
     },
     "execution_count": 18,
     "metadata": {},
     "output_type": "execute_result"
    }
   ],
   "source": [
    "%%sql\n",
    "\n",
    "SELECT *\n",
    "\n",
    "FROM oscars\n",
    "WHERE year =2015 AND winner = 1.0\n",
    "AND award  LIKE '%leading%';"
   ]
  },
  {
   "cell_type": "code",
   "execution_count": null,
   "id": "6e652e94",
   "metadata": {},
   "outputs": [],
   "source": [
    "What query will produce the ten newest movies in the database?"
   ]
  },
  {
   "cell_type": "code",
   "execution_count": 19,
   "id": "86afe413",
   "metadata": {},
   "outputs": [
    {
     "data": {
      "text/html": [
       "<span style=\"None\">Running query in &#x27;sqlite:///TMDB-a-4006.db&#x27;</span>"
      ],
      "text/plain": [
       "Running query in 'sqlite:///TMDB-a-4006.db'"
      ]
     },
     "metadata": {},
     "output_type": "display_data"
    },
    {
     "data": {
      "text/html": [
       "<table>\n",
       "    <thead>\n",
       "        <tr>\n",
       "            <th>movie_id</th>\n",
       "            <th>title</th>\n",
       "            <th>release_date</th>\n",
       "            <th>budget</th>\n",
       "            <th>homepage</th>\n",
       "            <th>original_language</th>\n",
       "            <th>original_title</th>\n",
       "            <th>overview</th>\n",
       "            <th>popularity</th>\n",
       "            <th>revenue</th>\n",
       "            <th>runtime</th>\n",
       "            <th>release_status</th>\n",
       "            <th>tagline</th>\n",
       "            <th>vote_average</th>\n",
       "            <th>vote_count</th>\n",
       "        </tr>\n",
       "    </thead>\n",
       "    <tbody>\n",
       "        <tr>\n",
       "            <td>426469</td>\n",
       "            <td>Growing Up Smith</td>\n",
       "            <td>2017-02-03 00:00:00.000000</td>\n",
       "            <td>0</td>\n",
       "            <td><a href=http://www.growingupsmithmovie.com>http://www.growingupsmithmovie.com</a></td>\n",
       "            <td>en</td>\n",
       "            <td>Growing Up Smith</td>\n",
       "            <td>\"In 1979, an Indian family moves to America with hopes of living the American Dream. While their 10-year-old boy Smith falls head-over-heels for the girl next door, his desire to become a \"\"good old boy\"\" propels him further away from his family's ideals than ever before.\"</td>\n",
       "            <td>0.71087</td>\n",
       "            <td>0.0</td>\n",
       "            <td>102.0</td>\n",
       "            <td>Released</td>\n",
       "            <td>ItÆs better to stand out than to fit in.</td>\n",
       "            <td>7.4</td>\n",
       "            <td>7</td>\n",
       "        </tr>\n",
       "        <tr>\n",
       "            <td>325373</td>\n",
       "            <td>Two Lovers and a Bear</td>\n",
       "            <td>2016-10-02 00:00:00.000000</td>\n",
       "            <td>0</td>\n",
       "            <td>None</td>\n",
       "            <td>en</td>\n",
       "            <td>Two Lovers and a Bear</td>\n",
       "            <td>Set in a small town near the North Pole where roads lead to nowhere, the story follows Roman and Lucy, two burning souls who come together to make a leap for life and inner peace.</td>\n",
       "            <td>3.139294</td>\n",
       "            <td>0.0</td>\n",
       "            <td>96.0</td>\n",
       "            <td>Released</td>\n",
       "            <td>None</td>\n",
       "            <td>6.8</td>\n",
       "            <td>27</td>\n",
       "        </tr>\n",
       "        <tr>\n",
       "            <td>374461</td>\n",
       "            <td>Mr. Church</td>\n",
       "            <td>2016-09-16 00:00:00.000000</td>\n",
       "            <td>8000000</td>\n",
       "            <td>None</td>\n",
       "            <td>en</td>\n",
       "            <td>Mr. Church</td>\n",
       "            <td>A unique friendship develops when a little girl and her dying mother inherit a cook - Mr. Church. What begins as an arrangement that should only last six months, instead spans fifteen years.</td>\n",
       "            <td>7.828459</td>\n",
       "            <td>0.0</td>\n",
       "            <td>104.0</td>\n",
       "            <td>Released</td>\n",
       "            <td>He was the one person she could always count on.</td>\n",
       "            <td>7.0</td>\n",
       "            <td>129</td>\n",
       "        </tr>\n",
       "        <tr>\n",
       "            <td>339408</td>\n",
       "            <td>The Birth of a Nation</td>\n",
       "            <td>2016-09-09 00:00:00.000000</td>\n",
       "            <td>8500000</td>\n",
       "            <td><a href=http://www.foxsearchlight.com/thebirthofanation/>http://www.foxsearchlight.com/thebirthofanation/</a></td>\n",
       "            <td>en</td>\n",
       "            <td>The Birth of a Nation</td>\n",
       "            <td>Nat Turner, a former slave in America, leads a liberation movement in 1831 to free African-Americans in Virgina that results in a violent retaliation from whites.</td>\n",
       "            <td>9.452808</td>\n",
       "            <td>15861566.0</td>\n",
       "            <td>120.0</td>\n",
       "            <td>Released</td>\n",
       "            <td>The Untold Story of Nat Turner</td>\n",
       "            <td>6.5</td>\n",
       "            <td>178</td>\n",
       "        </tr>\n",
       "        <tr>\n",
       "            <td>385736</td>\n",
       "            <td>Kicks</td>\n",
       "            <td>2016-09-09 00:00:00.000000</td>\n",
       "            <td>0</td>\n",
       "            <td><a href=http://www.focusfeatures.com/kicks>http://www.focusfeatures.com/kicks</a></td>\n",
       "            <td>en</td>\n",
       "            <td>Kicks</td>\n",
       "            <td>When his hard-earned kicks get snatched by a local hood, fifteen-year old Brandon and his two best friends go on an ill-advised mission across the Bay Area to retrieve the stolen sneakers.</td>\n",
       "            <td>3.467923</td>\n",
       "            <td>0.0</td>\n",
       "            <td>80.0</td>\n",
       "            <td>Released</td>\n",
       "            <td>They aren't just shoes</td>\n",
       "            <td>7.5</td>\n",
       "            <td>18</td>\n",
       "        </tr>\n",
       "        <tr>\n",
       "            <td>332285</td>\n",
       "            <td>Antibirth</td>\n",
       "            <td>2016-09-02 00:00:00.000000</td>\n",
       "            <td>35000000</td>\n",
       "            <td>None</td>\n",
       "            <td>en</td>\n",
       "            <td>Antibirth</td>\n",
       "            <td>In a desolate community full of drug-addled Marines and rumors of kidnapping, a wild-eyed stoner named Lou wakes up after a crazy night of partying with symptoms of a strange illness and recurring visions. As she struggles to get a grip on reality, the stories of conspiracy spread.</td>\n",
       "            <td>3.674294</td>\n",
       "            <td>0.0</td>\n",
       "            <td>94.0</td>\n",
       "            <td>Released</td>\n",
       "            <td>None</td>\n",
       "            <td>4.8</td>\n",
       "            <td>40</td>\n",
       "        </tr>\n",
       "        <tr>\n",
       "            <td>184341</td>\n",
       "            <td>Hands of Stone</td>\n",
       "            <td>2016-08-26 00:00:00.000000</td>\n",
       "            <td>20000000</td>\n",
       "            <td>None</td>\n",
       "            <td>en</td>\n",
       "            <td>Hands of Stone</td>\n",
       "            <td>The legendary Roberto Duran and his equally legendary trainer Ray Arcel change each other's lives.</td>\n",
       "            <td>7.444189</td>\n",
       "            <td>0.0</td>\n",
       "            <td>105.0</td>\n",
       "            <td>Released</td>\n",
       "            <td>No mßs. No surrender.</td>\n",
       "            <td>6.1</td>\n",
       "            <td>109</td>\n",
       "        </tr>\n",
       "        <tr>\n",
       "            <td>271969</td>\n",
       "            <td>Ben-Hur</td>\n",
       "            <td>2016-08-17 00:00:00.000000</td>\n",
       "            <td>100000000</td>\n",
       "            <td><a href=http://www.benhurmovie.com/>http://www.benhurmovie.com/</a></td>\n",
       "            <td>en</td>\n",
       "            <td>Ben-Hur</td>\n",
       "            <td>A falsely accused nobleman survives years of slavery to take vengeance on his best friend who betrayed him.</td>\n",
       "            <td>29.608322</td>\n",
       "            <td>94061311.0</td>\n",
       "            <td>125.0</td>\n",
       "            <td>Released</td>\n",
       "            <td>First to finish. Last to die.</td>\n",
       "            <td>5.3</td>\n",
       "            <td>621</td>\n",
       "        </tr>\n",
       "        <tr>\n",
       "            <td>294272</td>\n",
       "            <td>Pete's Dragon</td>\n",
       "            <td>2016-08-10 00:00:00.000000</td>\n",
       "            <td>65000000</td>\n",
       "            <td><a href=http://movies.disney.com/petes-dragon-2016>http://movies.disney.com/petes-dragon-2016</a></td>\n",
       "            <td>en</td>\n",
       "            <td>Pete's Dragon</td>\n",
       "            <td>Pete is a mysterious 10-year-old with no family and no home who claims to live in the woods with a giant, green dragon named Elliott. With the help of Natalie, an 11-year-old girl whose father Jack owns the local lumber mill, forest ranger Grace sets out to determine where Pete came from, where he belongs, and the truth about this dragon.</td>\n",
       "            <td>31.974359</td>\n",
       "            <td>143695338.0</td>\n",
       "            <td>102.0</td>\n",
       "            <td>Released</td>\n",
       "            <td>Some secrets are too big to keep.</td>\n",
       "            <td>6.2</td>\n",
       "            <td>679</td>\n",
       "        </tr>\n",
       "        <tr>\n",
       "            <td>297761</td>\n",
       "            <td>Suicide Squad</td>\n",
       "            <td>2016-08-02 00:00:00.000000</td>\n",
       "            <td>175000000</td>\n",
       "            <td><a href=http://www.suicidesquad.com/>http://www.suicidesquad.com/</a></td>\n",
       "            <td>en</td>\n",
       "            <td>Suicide Squad</td>\n",
       "            <td>From DC Comics comes the Suicide Squad, an antihero team of incarcerated supervillains who act as deniable assets for the United States government, undertaking high-risk black ops missions in exchange for commuted prison sentences.</td>\n",
       "            <td>90.23792</td>\n",
       "            <td>745000000.0</td>\n",
       "            <td>123.0</td>\n",
       "            <td>Released</td>\n",
       "            <td>Worst Heroes Ever</td>\n",
       "            <td>5.9</td>\n",
       "            <td>7458</td>\n",
       "        </tr>\n",
       "    </tbody>\n",
       "</table>\n",
       "<span style=\"font-style:italic;text-align:center;\">Truncated to <a href=\"https://jupysql.ploomber.io/en/latest/api/configuration.html#displaylimit\">displaylimit</a> of 10.</span>"
      ],
      "text/plain": [
       "+----------+-----------------------+----------------------------+-----------+---------------------------------------------------------------------------------------------------------------+-------------------+-----------------------+------------------------------------------------------------------------------------------------------------------------------------------------------------------------------------------------------------------------------------------------------------------------------------------------------------------------------------------------------+------------+-------------+---------+----------------+--------------------------------------------------+--------------+------------+\n",
       "| movie_id |         title         |        release_date        |   budget  |                                                    homepage                                                   | original_language |     original_title    |                                                                                                                                                                       overview                                                                                                                                                                       | popularity |   revenue   | runtime | release_status |                     tagline                      | vote_average | vote_count |\n",
       "+----------+-----------------------+----------------------------+-----------+---------------------------------------------------------------------------------------------------------------+-------------------+-----------------------+------------------------------------------------------------------------------------------------------------------------------------------------------------------------------------------------------------------------------------------------------------------------------------------------------------------------------------------------------+------------+-------------+---------+----------------+--------------------------------------------------+--------------+------------+\n",
       "|  426469  |    Growing Up Smith   | 2017-02-03 00:00:00.000000 |     0     |               <a href=http://www.growingupsmithmovie.com>http://www.growingupsmithmovie.com</a>               |         en        |    Growing Up Smith   |                                  \"In 1979, an Indian family moves to America with hopes of living the American Dream. While their 10-year-old boy Smith falls head-over-heels for the girl next door, his desire to become a \"\"good old boy\"\" propels him further away from his family's ideals than ever before.\"                                   |  0.71087   |     0.0     |  102.0  |    Released    |     ItÆs better to stand out than to fit in.     |     7.4      |     7      |\n",
       "|  325373  | Two Lovers and a Bear | 2016-10-02 00:00:00.000000 |     0     |                                                      None                                                     |         en        | Two Lovers and a Bear |                                                                                 Set in a small town near the North Pole where roads lead to nowhere, the story follows Roman and Lucy, two burning souls who come together to make a leap for life and inner peace.                                                                                  |  3.139294  |     0.0     |   96.0  |    Released    |                       None                       |     6.8      |     27     |\n",
       "|  374461  |       Mr. Church      | 2016-09-16 00:00:00.000000 |  8000000  |                                                      None                                                     |         en        |       Mr. Church      |                                                                            A unique friendship develops when a little girl and her dying mother inherit a cook - Mr. Church. What begins as an arrangement that should only last six months, instead spans fifteen years.                                                                            |  7.828459  |     0.0     |  104.0  |    Released    | He was the one person she could always count on. |     7.0      |    129     |\n",
       "|  339408  | The Birth of a Nation | 2016-09-09 00:00:00.000000 |  8500000  | <a href=http://www.foxsearchlight.com/thebirthofanation/>http://www.foxsearchlight.com/thebirthofanation/</a> |         en        | The Birth of a Nation |                                                                                          Nat Turner, a former slave in America, leads a liberation movement in 1831 to free African-Americans in Virgina that results in a violent retaliation from whites.                                                                                          |  9.452808  |  15861566.0 |  120.0  |    Released    |          The Untold Story of Nat Turner          |     6.5      |    178     |\n",
       "|  385736  |         Kicks         | 2016-09-09 00:00:00.000000 |     0     |               <a href=http://www.focusfeatures.com/kicks>http://www.focusfeatures.com/kicks</a>               |         en        |         Kicks         |                                                                             When his hard-earned kicks get snatched by a local hood, fifteen-year old Brandon and his two best friends go on an ill-advised mission across the Bay Area to retrieve the stolen sneakers.                                                                             |  3.467923  |     0.0     |   80.0  |    Released    |              They aren't just shoes              |     7.5      |     18     |\n",
       "|  332285  |       Antibirth       | 2016-09-02 00:00:00.000000 |  35000000 |                                                      None                                                     |         en        |       Antibirth       |                              In a desolate community full of drug-addled Marines and rumors of kidnapping, a wild-eyed stoner named Lou wakes up after a crazy night of partying with symptoms of a strange illness and recurring visions. As she struggles to get a grip on reality, the stories of conspiracy spread.                              |  3.674294  |     0.0     |   94.0  |    Released    |                       None                       |     4.8      |     40     |\n",
       "|  184341  |     Hands of Stone    | 2016-08-26 00:00:00.000000 |  20000000 |                                                      None                                                     |         en        |     Hands of Stone    |                                                                                                                          The legendary Roberto Duran and his equally legendary trainer Ray Arcel change each other's lives.                                                                                                                          |  7.444189  |     0.0     |  105.0  |    Released    |              No mßs. No surrender.               |     6.1      |    109     |\n",
       "|  271969  |        Ben-Hur        | 2016-08-17 00:00:00.000000 | 100000000 |                      <a href=http://www.benhurmovie.com/>http://www.benhurmovie.com/</a>                      |         en        |        Ben-Hur        |                                                                                                                     A falsely accused nobleman survives years of slavery to take vengeance on his best friend who betrayed him.                                                                                                                      | 29.608322  |  94061311.0 |  125.0  |    Released    |          First to finish. Last to die.           |     5.3      |    621     |\n",
       "|  294272  |     Pete's Dragon     | 2016-08-10 00:00:00.000000 |  65000000 |       <a href=http://movies.disney.com/petes-dragon-2016>http://movies.disney.com/petes-dragon-2016</a>       |         en        |     Pete's Dragon     | Pete is a mysterious 10-year-old with no family and no home who claims to live in the woods with a giant, green dragon named Elliott. With the help of Natalie, an 11-year-old girl whose father Jack owns the local lumber mill, forest ranger Grace sets out to determine where Pete came from, where he belongs, and the truth about this dragon. | 31.974359  | 143695338.0 |  102.0  |    Released    |        Some secrets are too big to keep.         |     6.2      |    679     |\n",
       "|  297761  |     Suicide Squad     | 2016-08-02 00:00:00.000000 | 175000000 |                     <a href=http://www.suicidesquad.com/>http://www.suicidesquad.com/</a>                     |         en        |     Suicide Squad     |                                                       From DC Comics comes the Suicide Squad, an antihero team of incarcerated supervillains who act as deniable assets for the United States government, undertaking high-risk black ops missions in exchange for commuted prison sentences.                                                        |  90.23792  | 745000000.0 |  123.0  |    Released    |                Worst Heroes Ever                 |     5.9      |    7458    |\n",
       "+----------+-----------------------+----------------------------+-----------+---------------------------------------------------------------------------------------------------------------+-------------------+-----------------------+------------------------------------------------------------------------------------------------------------------------------------------------------------------------------------------------------------------------------------------------------------------------------------------------------------------------------------------------------+------------+-------------+---------+----------------+--------------------------------------------------+--------------+------------+\n",
       "Truncated to displaylimit of 10."
      ]
     },
     "execution_count": 19,
     "metadata": {},
     "output_type": "execute_result"
    }
   ],
   "source": [
    "%%sql\n",
    "SELECT * \n",
    "FROM movies \n",
    "WHERE release_date IS NOT NULL \n",
    "ORDER BY release_date DESC \n",
    "LIMIT 10;"
   ]
  },
  {
   "cell_type": "code",
   "execution_count": null,
   "id": "9fa64b39",
   "metadata": {},
   "outputs": [],
   "source": [
    "What query will produce the ten oldest movies in the database?"
   ]
  },
  {
   "cell_type": "code",
   "execution_count": 24,
   "id": "eab20e47",
   "metadata": {
    "scrolled": false
   },
   "outputs": [
    {
     "data": {
      "text/html": [
       "<span style=\"None\">Running query in &#x27;sqlite:///TMDB-a-4006.db&#x27;</span>"
      ],
      "text/plain": [
       "Running query in 'sqlite:///TMDB-a-4006.db'"
      ]
     },
     "metadata": {},
     "output_type": "display_data"
    },
    {
     "data": {
      "text/html": [
       "<table>\n",
       "    <thead>\n",
       "        <tr>\n",
       "            <th>movie_id</th>\n",
       "            <th>title</th>\n",
       "            <th>release_date</th>\n",
       "            <th>budget</th>\n",
       "            <th>homepage</th>\n",
       "            <th>original_language</th>\n",
       "            <th>original_title</th>\n",
       "            <th>overview</th>\n",
       "            <th>popularity</th>\n",
       "            <th>revenue</th>\n",
       "            <th>runtime</th>\n",
       "            <th>release_status</th>\n",
       "            <th>tagline</th>\n",
       "            <th>vote_average</th>\n",
       "            <th>vote_count</th>\n",
       "        </tr>\n",
       "    </thead>\n",
       "    <tbody>\n",
       "        <tr>\n",
       "            <td>3059</td>\n",
       "            <td>Intolerance</td>\n",
       "            <td>1916-09-04 00:00:00.000000</td>\n",
       "            <td>385907</td>\n",
       "            <td>None</td>\n",
       "            <td>en</td>\n",
       "            <td>Intolerance</td>\n",
       "            <td>The story of a poor young woman, separated by prejudice from her husband and baby, is interwoven with tales of intolerance from throughout history.</td>\n",
       "            <td>3.232447</td>\n",
       "            <td>8394751.0</td>\n",
       "            <td>197.0</td>\n",
       "            <td>Released</td>\n",
       "            <td>The Cruel Hand of Intolerance</td>\n",
       "            <td>7.4</td>\n",
       "            <td>60</td>\n",
       "        </tr>\n",
       "        <tr>\n",
       "            <td>3060</td>\n",
       "            <td>The Big Parade</td>\n",
       "            <td>1925-11-05 00:00:00.000000</td>\n",
       "            <td>245000</td>\n",
       "            <td>None</td>\n",
       "            <td>en</td>\n",
       "            <td>The Big Parade</td>\n",
       "            <td>The story of an idle rich boy who joins the US Army's Rainbow Division and is sent to France to fight in World War I, becomes friends with two working class men, experiences the horrors of trench warfare, and finds love with a French girl.</td>\n",
       "            <td>0.785744</td>\n",
       "            <td>22000000.0</td>\n",
       "            <td>151.0</td>\n",
       "            <td>Released</td>\n",
       "            <td>None</td>\n",
       "            <td>7.0</td>\n",
       "            <td>21</td>\n",
       "        </tr>\n",
       "        <tr>\n",
       "            <td>19</td>\n",
       "            <td>Metropolis</td>\n",
       "            <td>1927-01-10 00:00:00.000000</td>\n",
       "            <td>92620000</td>\n",
       "            <td>None</td>\n",
       "            <td>de</td>\n",
       "            <td>Metropolis</td>\n",
       "            <td>In a futuristic city sharply divided between the working class and the city planners, the son of the city's mastermind falls in love with a working class prophet who predicts the coming of a savior to mediate their differences.</td>\n",
       "            <td>32.351527</td>\n",
       "            <td>650422.0</td>\n",
       "            <td>153.0</td>\n",
       "            <td>Released</td>\n",
       "            <td>There can be no understanding between the hands and the brain unless the heart acts as mediator.</td>\n",
       "            <td>8.0</td>\n",
       "            <td>657</td>\n",
       "        </tr>\n",
       "        <tr>\n",
       "            <td>905</td>\n",
       "            <td>Pandora's Box</td>\n",
       "            <td>1929-01-30 00:00:00.000000</td>\n",
       "            <td>0</td>\n",
       "            <td>None</td>\n",
       "            <td>de</td>\n",
       "            <td>Die Bnchse der Pandora</td>\n",
       "            <td>The rise and inevitable fall of an amoral but naive young woman whose insouciant eroticism inspires lust and violence in those around her.</td>\n",
       "            <td>1.824184</td>\n",
       "            <td>0.0</td>\n",
       "            <td>109.0</td>\n",
       "            <td>Released</td>\n",
       "            <td>None</td>\n",
       "            <td>7.6</td>\n",
       "            <td>45</td>\n",
       "        </tr>\n",
       "        <tr>\n",
       "            <td>65203</td>\n",
       "            <td>The Broadway Melody</td>\n",
       "            <td>1929-02-08 00:00:00.000000</td>\n",
       "            <td>379000</td>\n",
       "            <td>None</td>\n",
       "            <td>en</td>\n",
       "            <td>The Broadway Melody</td>\n",
       "            <td>Harriet and Queenie Mahoney, a vaudeville act, come to Broadway, where their friend Eddie Kerns needs them for his number in one of Francis Zanfield's shows. Eddie was in love with Harriet, but when he meets Queenie, he falls in love to her, but she is courted by Jock Warriner, a member of the New Yorker high society. It takes a while till Queenie recognizes, that she is for Jock nothing more than a toy, and it also takes a while till Harriet recognizes, that Eddie is in love with Queenie</td>\n",
       "            <td>0.968865</td>\n",
       "            <td>4358000.0</td>\n",
       "            <td>100.0</td>\n",
       "            <td>Released</td>\n",
       "            <td>The pulsating drama of Broadway's bared heart speaks and sings with a voice to stir your soul!</td>\n",
       "            <td>5.0</td>\n",
       "            <td>19</td>\n",
       "        </tr>\n",
       "        <tr>\n",
       "            <td>22301</td>\n",
       "            <td>Hell's Angels</td>\n",
       "            <td>1930-11-15 00:00:00.000000</td>\n",
       "            <td>3950000</td>\n",
       "            <td>None</td>\n",
       "            <td>en</td>\n",
       "            <td>Hell's Angels</td>\n",
       "            <td>Two brothers attending Oxford enlist with the Royal Flying Corps when World War I breaks out. Roy and Monte Rutledge have very different personalities. Monte is a freewheeling womanizer, even with his brother's girlfriend Helen. He also proves to have a yellow streak when it comes to his Night Patrol duties. Roy is made of strong moral fiber and attempts to keep his brother in line. Both volunteer for an extremely risky two man bombing mission for different reasons. Monte wants to lose his cowardly reputation and Roy seeks to protect his brother. Roy loves Helen; Helen enjoys an affair with Monte; before they leave on their mission over Germany they find her in still another man's arms.  Their assignment to knock out a strategic German munitions facility is a booming success, but with a squadron of fighters bearing down on them afterwards, escape seems unlikely.</td>\n",
       "            <td>8.484123</td>\n",
       "            <td>8000000.0</td>\n",
       "            <td>127.0</td>\n",
       "            <td>Released</td>\n",
       "            <td>Howard Hughes' Thrilling Multi-Million Dollar Air Spectacle</td>\n",
       "            <td>6.1</td>\n",
       "            <td>19</td>\n",
       "        </tr>\n",
       "        <tr>\n",
       "            <td>22649</td>\n",
       "            <td>A Farewell to Arms</td>\n",
       "            <td>1932-12-08 00:00:00.000000</td>\n",
       "            <td>4</td>\n",
       "            <td>None</td>\n",
       "            <td>en</td>\n",
       "            <td>A Farewell to Arms</td>\n",
       "            <td>British nurse Catherine Barkley (Helen Hayes) and American Lieutenant Frederic Henry (Gary Cooper) fall in love during the First World War in Italy. Eventually separated by Frederic's transfer, tremendous challenges and difficult decisions face each, as the war rages on. Academy Awards winner for Best Cinematography and for Best Sound, Recording. Nominated for Best Picture and for Best Art Direction.</td>\n",
       "            <td>1.199451</td>\n",
       "            <td>25.0</td>\n",
       "            <td>89.0</td>\n",
       "            <td>Released</td>\n",
       "            <td>Every woman who has loved will understand</td>\n",
       "            <td>6.2</td>\n",
       "            <td>28</td>\n",
       "        </tr>\n",
       "        <tr>\n",
       "            <td>3062</td>\n",
       "            <td>42nd Street</td>\n",
       "            <td>1933-02-02 00:00:00.000000</td>\n",
       "            <td>439000</td>\n",
       "            <td>None</td>\n",
       "            <td>en</td>\n",
       "            <td>42nd Street</td>\n",
       "            <td>A producer puts on what may be his last Broadway show, and at the last moment a chorus girl has to replace the star.</td>\n",
       "            <td>1.933366</td>\n",
       "            <td>2281000.0</td>\n",
       "            <td>89.0</td>\n",
       "            <td>Released</td>\n",
       "            <td>None</td>\n",
       "            <td>6.1</td>\n",
       "            <td>37</td>\n",
       "        </tr>\n",
       "        <tr>\n",
       "            <td>43595</td>\n",
       "            <td>She Done Him Wrong</td>\n",
       "            <td>1933-02-09 00:00:00.000000</td>\n",
       "            <td>200000</td>\n",
       "            <td>None</td>\n",
       "            <td>en</td>\n",
       "            <td>She Done Him Wrong</td>\n",
       "            <td>\"New York singer and nightclub owner Lady Lou has more men friends than you can imagine. Unfortunately one of them is a vicious criminal who's escaped and is on the way to see \"\"his\"\" girl, not realising she hasn't exactly been faithful in his absence. Help is at hand in the form of young Captain Cummings a local temperance league leader though.\"</td>\n",
       "            <td>0.622752</td>\n",
       "            <td>2200000.0</td>\n",
       "            <td>66.0</td>\n",
       "            <td>Released</td>\n",
       "            <td>Mae West gives a 'Hot Time' to the nation!</td>\n",
       "            <td>5.1</td>\n",
       "            <td>27</td>\n",
       "        </tr>\n",
       "        <tr>\n",
       "            <td>3078</td>\n",
       "            <td>It Happened One Night</td>\n",
       "            <td>1934-02-22 00:00:00.000000</td>\n",
       "            <td>325000</td>\n",
       "            <td>None</td>\n",
       "            <td>en</td>\n",
       "            <td>It Happened One Night</td>\n",
       "            <td>Ellie Andrews has just tied the knot with society aviator King Westley when she is whisked away to her father's yacht and out of King's clutches. Ellie jumps ship and eventually winds up on a bus headed back to her husband. Reluctantly she must accept the help of out-of- work reporter Peter Warne. Actually, Warne doesn't give her any choice: either she sticks with him until he gets her back to her husband, or he'll blow the whistle on Ellie to her father. Either way, Peter gets what he wants... a really juicy newspaper story!</td>\n",
       "            <td>11.871424</td>\n",
       "            <td>4500000.0</td>\n",
       "            <td>105.0</td>\n",
       "            <td>Released</td>\n",
       "            <td>TOGETHER... for the first time</td>\n",
       "            <td>7.7</td>\n",
       "            <td>275</td>\n",
       "        </tr>\n",
       "    </tbody>\n",
       "</table>\n",
       "<span style=\"font-style:italic;text-align:center;\">Truncated to <a href=\"https://jupysql.ploomber.io/en/latest/api/configuration.html#displaylimit\">displaylimit</a> of 10.</span>"
      ],
      "text/plain": [
       "+----------+-----------------------+----------------------------+----------+----------+-------------------+------------------------+------------------------------------------------------------------------------------------------------------------------------------------------------------------------------------------------------------------------------------------------------------------------------------------------------------------------------------------------------------------------------------------------------------------------------------------------------------------------------------------------------------------------------------------------------------------------------------------------------------------------------------------------------------------------------------------------------------------------------------------------------------------------------------------------------------------------------------------------------------------------------------------------------------+------------+------------+---------+----------------+--------------------------------------------------------------------------------------------------+--------------+------------+\n",
       "| movie_id |         title         |        release_date        |  budget  | homepage | original_language |     original_title     |                                                                                                                                                                                                                                                                                                                                                                                                                                                  overview                                                                                                                                                                                                                                                                                                                                                                                                                                                  | popularity |  revenue   | runtime | release_status |                                             tagline                                              | vote_average | vote_count |\n",
       "+----------+-----------------------+----------------------------+----------+----------+-------------------+------------------------+------------------------------------------------------------------------------------------------------------------------------------------------------------------------------------------------------------------------------------------------------------------------------------------------------------------------------------------------------------------------------------------------------------------------------------------------------------------------------------------------------------------------------------------------------------------------------------------------------------------------------------------------------------------------------------------------------------------------------------------------------------------------------------------------------------------------------------------------------------------------------------------------------------+------------+------------+---------+----------------+--------------------------------------------------------------------------------------------------+--------------+------------+\n",
       "|   3059   |      Intolerance      | 1916-09-04 00:00:00.000000 |  385907  |   None   |         en        |      Intolerance       |                                                                                                                                                                                                                                                                                                                                                                            The story of a poor young woman, separated by prejudice from her husband and baby, is interwoven with tales of intolerance from throughout history.                                                                                                                                                                                                                                                                                                                                                                             |  3.232447  | 8394751.0  |  197.0  |    Released    |                                  The Cruel Hand of Intolerance                                   |     7.4      |     60     |\n",
       "|   3060   |     The Big Parade    | 1925-11-05 00:00:00.000000 |  245000  |   None   |         en        |     The Big Parade     |                                                                                                                                                                                                                                                                                                                              The story of an idle rich boy who joins the US Army's Rainbow Division and is sent to France to fight in World War I, becomes friends with two working class men, experiences the horrors of trench warfare, and finds love with a French girl.                                                                                                                                                                                                                                                                                                                               |  0.785744  | 22000000.0 |  151.0  |    Released    |                                               None                                               |     7.0      |     21     |\n",
       "|    19    |       Metropolis      | 1927-01-10 00:00:00.000000 | 92620000 |   None   |         de        |       Metropolis       |                                                                                                                                                                                                                                                                                                                                    In a futuristic city sharply divided between the working class and the city planners, the son of the city's mastermind falls in love with a working class prophet who predicts the coming of a savior to mediate their differences.                                                                                                                                                                                                                                                                                                                                     | 32.351527  |  650422.0  |  153.0  |    Released    | There can be no understanding between the hands and the brain unless the heart acts as mediator. |     8.0      |    657     |\n",
       "|   905    |     Pandora's Box     | 1929-01-30 00:00:00.000000 |    0     |   None   |         de        | Die Bnchse der Pandora |                                                                                                                                                                                                                                                                                                                                                                                 The rise and inevitable fall of an amoral but naive young woman whose insouciant eroticism inspires lust and violence in those around her.                                                                                                                                                                                                                                                                                                                                                                                 |  1.824184  |    0.0     |  109.0  |    Released    |                                               None                                               |     7.6      |     45     |\n",
       "|  65203   |  The Broadway Melody  | 1929-02-08 00:00:00.000000 |  379000  |   None   |         en        |  The Broadway Melody   |                                                                                                                                                                                               Harriet and Queenie Mahoney, a vaudeville act, come to Broadway, where their friend Eddie Kerns needs them for his number in one of Francis Zanfield's shows. Eddie was in love with Harriet, but when he meets Queenie, he falls in love to her, but she is courted by Jock Warriner, a member of the New Yorker high society. It takes a while till Queenie recognizes, that she is for Jock nothing more than a toy, and it also takes a while till Harriet recognizes, that Eddie is in love with Queenie                                                                                                                                                                                                |  0.968865  | 4358000.0  |  100.0  |    Released    |  The pulsating drama of Broadway's bared heart speaks and sings with a voice to stir your soul!  |     5.0      |     19     |\n",
       "|  22301   |     Hell's Angels     | 1930-11-15 00:00:00.000000 | 3950000  |   None   |         en        |     Hell's Angels      | Two brothers attending Oxford enlist with the Royal Flying Corps when World War I breaks out. Roy and Monte Rutledge have very different personalities. Monte is a freewheeling womanizer, even with his brother's girlfriend Helen. He also proves to have a yellow streak when it comes to his Night Patrol duties. Roy is made of strong moral fiber and attempts to keep his brother in line. Both volunteer for an extremely risky two man bombing mission for different reasons. Monte wants to lose his cowardly reputation and Roy seeks to protect his brother. Roy loves Helen; Helen enjoys an affair with Monte; before they leave on their mission over Germany they find her in still another man's arms.  Their assignment to knock out a strategic German munitions facility is a booming success, but with a squadron of fighters bearing down on them afterwards, escape seems unlikely. |  8.484123  | 8000000.0  |  127.0  |    Released    |                   Howard Hughes' Thrilling Multi-Million Dollar Air Spectacle                    |     6.1      |     19     |\n",
       "|  22649   |   A Farewell to Arms  | 1932-12-08 00:00:00.000000 |    4     |   None   |         en        |   A Farewell to Arms   |                                                                                                                                                                                                                                            British nurse Catherine Barkley (Helen Hayes) and American Lieutenant Frederic Henry (Gary Cooper) fall in love during the First World War in Italy. Eventually separated by Frederic's transfer, tremendous challenges and difficult decisions face each, as the war rages on. Academy Awards winner for Best Cinematography and for Best Sound, Recording. Nominated for Best Picture and for Best Art Direction.                                                                                                                                                                                                                                             |  1.199451  |    25.0    |   89.0  |    Released    |                            Every woman who has loved will understand                             |     6.2      |     28     |\n",
       "|   3062   |      42nd Street      | 1933-02-02 00:00:00.000000 |  439000  |   None   |         en        |      42nd Street       |                                                                                                                                                                                                                                                                                                                                                                                            A producer puts on what may be his last Broadway show, and at the last moment a chorus girl has to replace the star.                                                                                                                                                                                                                                                                                                                                                                                            |  1.933366  | 2281000.0  |   89.0  |    Released    |                                               None                                               |     6.1      |     37     |\n",
       "|  43595   |   She Done Him Wrong  | 1933-02-09 00:00:00.000000 |  200000  |   None   |         en        |   She Done Him Wrong   |                                                                                                                                                                                                                                                                        \"New York singer and nightclub owner Lady Lou has more men friends than you can imagine. Unfortunately one of them is a vicious criminal who's escaped and is on the way to see \"\"his\"\" girl, not realising she hasn't exactly been faithful in his absence. Help is at hand in the form of young Captain Cummings a local temperance league leader though.\"                                                                                                                                                                                                                                                                        |  0.622752  | 2200000.0  |   66.0  |    Released    |                            Mae West gives a 'Hot Time' to the nation!                            |     5.1      |     27     |\n",
       "|   3078   | It Happened One Night | 1934-02-22 00:00:00.000000 |  325000  |   None   |         en        | It Happened One Night  |                                                                                                                                                                            Ellie Andrews has just tied the knot with society aviator King Westley when she is whisked away to her father's yacht and out of King's clutches. Ellie jumps ship and eventually winds up on a bus headed back to her husband. Reluctantly she must accept the help of out-of- work reporter Peter Warne. Actually, Warne doesn't give her any choice: either she sticks with him until he gets her back to her husband, or he'll blow the whistle on Ellie to her father. Either way, Peter gets what he wants... a really juicy newspaper story!                                                                                                                                                                             | 11.871424  | 4500000.0  |  105.0  |    Released    |                                  TOGETHER... for the first time                                  |     7.7      |    275     |\n",
       "+----------+-----------------------+----------------------------+----------+----------+-------------------+------------------------+------------------------------------------------------------------------------------------------------------------------------------------------------------------------------------------------------------------------------------------------------------------------------------------------------------------------------------------------------------------------------------------------------------------------------------------------------------------------------------------------------------------------------------------------------------------------------------------------------------------------------------------------------------------------------------------------------------------------------------------------------------------------------------------------------------------------------------------------------------------------------------------------------------+------------+------------+---------+----------------+--------------------------------------------------------------------------------------------------+--------------+------------+\n",
       "Truncated to displaylimit of 10."
      ]
     },
     "execution_count": 24,
     "metadata": {},
     "output_type": "execute_result"
    }
   ],
   "source": [
    "%%sql\n",
    "SELECT * \n",
    "FROM movies \n",
    "WHERE release_date IS NOT NULL \n",
    "ORDER BY release_date ASC \n",
    "LIMIT 10;"
   ]
  },
  {
   "cell_type": "code",
   "execution_count": null,
   "id": "d5bc6fe7",
   "metadata": {},
   "outputs": [],
   "source": [
    "What code will select all the movies from the database?"
   ]
  },
  {
   "cell_type": "code",
   "execution_count": 3,
   "id": "6617adf2",
   "metadata": {
    "scrolled": false
   },
   "outputs": [
    {
     "data": {
      "text/html": [
       "<span style=\"None\">Running query in &#x27;sqlite:///TMDB-a-4006.db&#x27;</span>"
      ],
      "text/plain": [
       "Running query in 'sqlite:///TMDB-a-4006.db'"
      ]
     },
     "metadata": {},
     "output_type": "display_data"
    },
    {
     "data": {
      "text/html": [
       "<table>\n",
       "    <thead>\n",
       "        <tr>\n",
       "            <th>movie_id</th>\n",
       "            <th>title</th>\n",
       "            <th>release_date</th>\n",
       "            <th>budget</th>\n",
       "            <th>homepage</th>\n",
       "            <th>original_language</th>\n",
       "            <th>original_title</th>\n",
       "            <th>overview</th>\n",
       "            <th>popularity</th>\n",
       "            <th>revenue</th>\n",
       "            <th>runtime</th>\n",
       "            <th>release_status</th>\n",
       "            <th>tagline</th>\n",
       "            <th>vote_average</th>\n",
       "            <th>vote_count</th>\n",
       "        </tr>\n",
       "    </thead>\n",
       "    <tbody>\n",
       "        <tr>\n",
       "            <td>5</td>\n",
       "            <td>Four Rooms</td>\n",
       "            <td>1995-12-09 00:00:00.000000</td>\n",
       "            <td>4000000</td>\n",
       "            <td>None</td>\n",
       "            <td>en</td>\n",
       "            <td>Four Rooms</td>\n",
       "            <td>It's Ted the Bellhop's first night on the job...and the hotel's very unusual guests are about to place him in some outrageous predicaments. It seems that this evening's room service is serving up one unbelievable happening after another.</td>\n",
       "            <td>22.87623</td>\n",
       "            <td>4300000.0</td>\n",
       "            <td>98.0</td>\n",
       "            <td>Released</td>\n",
       "            <td>Twelve outrageous guests. Four scandalous requests. And one lone bellhop, in his first day on the job, who's in for the wildest New year's Eve of his life.</td>\n",
       "            <td>6.5</td>\n",
       "            <td>530</td>\n",
       "        </tr>\n",
       "        <tr>\n",
       "            <td>11</td>\n",
       "            <td>Star Wars</td>\n",
       "            <td>1977-05-25 00:00:00.000000</td>\n",
       "            <td>11000000</td>\n",
       "            <td><a href=http://www.starwars.com/films/star-wars-episode-iv-a-new-hope>http://www.starwars.com/films/star-wars-episode-iv-a-new-hope</a></td>\n",
       "            <td>en</td>\n",
       "            <td>Star Wars</td>\n",
       "            <td>Princess Leia is captured and held hostage by the evil Imperial forces in their effort to take over the galactic Empire. Venturesome Luke Skywalker and dashing captain Han Solo team together with the loveable robot duo R2-D2 and C-3PO to rescue the beautiful princess and restore peace and justice in the Empire.</td>\n",
       "            <td>126.393695</td>\n",
       "            <td>775398007.0</td>\n",
       "            <td>121.0</td>\n",
       "            <td>Released</td>\n",
       "            <td>A long time ago in a galaxy far, far away...</td>\n",
       "            <td>8.1</td>\n",
       "            <td>6624</td>\n",
       "        </tr>\n",
       "        <tr>\n",
       "            <td>12</td>\n",
       "            <td>Finding Nemo</td>\n",
       "            <td>2003-05-30 00:00:00.000000</td>\n",
       "            <td>94000000</td>\n",
       "            <td><a href=http://movies.disney.com/finding-nemo>http://movies.disney.com/finding-nemo</a></td>\n",
       "            <td>en</td>\n",
       "            <td>Finding Nemo</td>\n",
       "            <td>Nemo, an adventurous young clownfish, is unexpectedly taken from his Great Barrier Reef home to a dentist's office aquarium. It's up to his worrisome father Marlin and a friendly but forgetful fish Dory to bring Nemo home -- meeting vegetarian sharks, surfer dude turtles, hypnotic jellyfish, hungry seagulls, and more along the way.</td>\n",
       "            <td>85.688789</td>\n",
       "            <td>940335536.0</td>\n",
       "            <td>100.0</td>\n",
       "            <td>Released</td>\n",
       "            <td>There are 3.7 trillion fish in the ocean, they're looking for one.</td>\n",
       "            <td>7.6</td>\n",
       "            <td>6122</td>\n",
       "        </tr>\n",
       "        <tr>\n",
       "            <td>13</td>\n",
       "            <td>Forrest Gump</td>\n",
       "            <td>1994-07-06 00:00:00.000000</td>\n",
       "            <td>55000000</td>\n",
       "            <td>None</td>\n",
       "            <td>en</td>\n",
       "            <td>Forrest Gump</td>\n",
       "            <td>A man with a low IQ has accomplished great things in his life and been present during significant historic events - in each case, far exceeding what anyone imagined he could do. Yet, despite all the things he has attained, his one true love eludes him. 'Forrest Gump' is the story of a man who rose above his challenges, and who proved that determination, courage, and love are more important than ability.</td>\n",
       "            <td>138.133331</td>\n",
       "            <td>677945399.0</td>\n",
       "            <td>142.0</td>\n",
       "            <td>Released</td>\n",
       "            <td>The world will never be the same, once you've seen it through the eyes of Forrest Gump.</td>\n",
       "            <td>8.2</td>\n",
       "            <td>7927</td>\n",
       "        </tr>\n",
       "        <tr>\n",
       "            <td>14</td>\n",
       "            <td>American Beauty</td>\n",
       "            <td>1999-09-15 00:00:00.000000</td>\n",
       "            <td>15000000</td>\n",
       "            <td><a href=http://www.dreamworks.com/ab/>http://www.dreamworks.com/ab/</a></td>\n",
       "            <td>en</td>\n",
       "            <td>American Beauty</td>\n",
       "            <td>Lester Burnham, a depressed suburban father in a mid-life crisis, decides to turn his hectic life around after developing an infatuation with his daughter's attractive friend.</td>\n",
       "            <td>80.878605</td>\n",
       "            <td>356296601.0</td>\n",
       "            <td>122.0</td>\n",
       "            <td>Released</td>\n",
       "            <td>Look closer.</td>\n",
       "            <td>7.9</td>\n",
       "            <td>3313</td>\n",
       "        </tr>\n",
       "        <tr>\n",
       "            <td>16</td>\n",
       "            <td>Dancer in the Dark</td>\n",
       "            <td>2000-05-17 00:00:00.000000</td>\n",
       "            <td>12800000</td>\n",
       "            <td>None</td>\n",
       "            <td>en</td>\n",
       "            <td>Dancer in the Dark</td>\n",
       "            <td>Selma, a Czech immigrant on the verge of blindness, struggles to make ends meet for herself and her son, who has inherited the same genetic disorder and will suffer the same fate without an expensive operation. When life gets too difficult, Selma learns to cope through her love of musicals, escaping life's troubles - even if just for a moment - by dreaming up little numbers to the rhythmic beats of her surroundings.</td>\n",
       "            <td>22.022228</td>\n",
       "            <td>40031879.0</td>\n",
       "            <td>140.0</td>\n",
       "            <td>Released</td>\n",
       "            <td>You don't need eyes to see.</td>\n",
       "            <td>7.6</td>\n",
       "            <td>377</td>\n",
       "        </tr>\n",
       "        <tr>\n",
       "            <td>18</td>\n",
       "            <td>The Fifth Element</td>\n",
       "            <td>1997-05-07 00:00:00.000000</td>\n",
       "            <td>90000000</td>\n",
       "            <td>None</td>\n",
       "            <td>en</td>\n",
       "            <td>The Fifth Element</td>\n",
       "            <td>In 2257, a taxi driver is unintentionally given the task of saving a young girl who is part of the key that will ensure the survival of humanity.</td>\n",
       "            <td>109.528572</td>\n",
       "            <td>263920180.0</td>\n",
       "            <td>126.0</td>\n",
       "            <td>Released</td>\n",
       "            <td>There is no future without it.</td>\n",
       "            <td>7.3</td>\n",
       "            <td>3885</td>\n",
       "        </tr>\n",
       "        <tr>\n",
       "            <td>19</td>\n",
       "            <td>Metropolis</td>\n",
       "            <td>1927-01-10 00:00:00.000000</td>\n",
       "            <td>92620000</td>\n",
       "            <td>None</td>\n",
       "            <td>de</td>\n",
       "            <td>Metropolis</td>\n",
       "            <td>In a futuristic city sharply divided between the working class and the city planners, the son of the city's mastermind falls in love with a working class prophet who predicts the coming of a savior to mediate their differences.</td>\n",
       "            <td>32.351527</td>\n",
       "            <td>650422.0</td>\n",
       "            <td>153.0</td>\n",
       "            <td>Released</td>\n",
       "            <td>There can be no understanding between the hands and the brain unless the heart acts as mediator.</td>\n",
       "            <td>8.0</td>\n",
       "            <td>657</td>\n",
       "        </tr>\n",
       "        <tr>\n",
       "            <td>20</td>\n",
       "            <td>My Life Without Me</td>\n",
       "            <td>2003-03-07 00:00:00.000000</td>\n",
       "            <td>0</td>\n",
       "            <td><a href=http://www.clubcultura.com/clubcine/clubcineastas/isabelcoixet/mividasinmi/index.htm>http://www.clubcultura.com/clubcine/clubcineastas/isabelcoixet/mividasinmi/index.htm</a></td>\n",
       "            <td>en</td>\n",
       "            <td>My Life Without Me</td>\n",
       "            <td>A Pedro Almodovar production in which a fatally ill mother with only two months to live creates a list of things she wants to do before she dies with out telling her family of her illness.</td>\n",
       "            <td>7.958831</td>\n",
       "            <td>9726954.0</td>\n",
       "            <td>106.0</td>\n",
       "            <td>Released</td>\n",
       "            <td>None</td>\n",
       "            <td>7.2</td>\n",
       "            <td>77</td>\n",
       "        </tr>\n",
       "        <tr>\n",
       "            <td>22</td>\n",
       "            <td>Pirates of the Caribbean: The Curse of the Black Pearl</td>\n",
       "            <td>2003-07-09 00:00:00.000000</td>\n",
       "            <td>140000000</td>\n",
       "            <td><a href=http://disney.go.com/disneyvideos/liveaction/pirates/main_site/main.html>http://disney.go.com/disneyvideos/liveaction/pirates/main_site/main.html</a></td>\n",
       "            <td>en</td>\n",
       "            <td>Pirates of the Caribbean: The Curse of the Black Pearl</td>\n",
       "            <td>Jack Sparrow, a freewheeling 17th-century pirate who roams the Caribbean Sea, butts heads with a rival pirate bent on pillaging the village of Port Royal. When the governor's daughter is kidnapped, Sparrow decides to help the girl's love save her. But their seafaring mission is hardly simple.</td>\n",
       "            <td>271.972889</td>\n",
       "            <td>655011224.0</td>\n",
       "            <td>143.0</td>\n",
       "            <td>Released</td>\n",
       "            <td>Prepare to be blown out of the water.</td>\n",
       "            <td>7.5</td>\n",
       "            <td>6985</td>\n",
       "        </tr>\n",
       "    </tbody>\n",
       "</table>\n",
       "<span style=\"font-style:italic;text-align:center;\">Truncated to <a href=\"https://jupysql.ploomber.io/en/latest/api/configuration.html#displaylimit\">displaylimit</a> of 10.</span>"
      ],
      "text/plain": [
       "+----------+--------------------------------------------------------+----------------------------+-----------+---------------------------------------------------------------------------------------------------------------------------------------------------------------------------------------+-------------------+--------------------------------------------------------+-------------------------------------------------------------------------------------------------------------------------------------------------------------------------------------------------------------------------------------------------------------------------------------------------------------------------------------------------------------------------------------------------------------------------------------+------------+-------------+---------+----------------+-------------------------------------------------------------------------------------------------------------------------------------------------------------+--------------+------------+\n",
       "| movie_id |                         title                          |        release_date        |   budget  |                                                                                        homepage                                                                                       | original_language |                     original_title                     |                                                                                                                                                                                                               overview                                                                                                                                                                                                              | popularity |   revenue   | runtime | release_status |                                                                           tagline                                                                           | vote_average | vote_count |\n",
       "+----------+--------------------------------------------------------+----------------------------+-----------+---------------------------------------------------------------------------------------------------------------------------------------------------------------------------------------+-------------------+--------------------------------------------------------+-------------------------------------------------------------------------------------------------------------------------------------------------------------------------------------------------------------------------------------------------------------------------------------------------------------------------------------------------------------------------------------------------------------------------------------+------------+-------------+---------+----------------+-------------------------------------------------------------------------------------------------------------------------------------------------------------+--------------+------------+\n",
       "|    5     |                       Four Rooms                       | 1995-12-09 00:00:00.000000 |  4000000  |                                                                                          None                                                                                         |         en        |                       Four Rooms                       |                                                                                            It's Ted the Bellhop's first night on the job...and the hotel's very unusual guests are about to place him in some outrageous predicaments. It seems that this evening's room service is serving up one unbelievable happening after another.                                                                                            |  22.87623  |  4300000.0  |   98.0  |    Released    | Twelve outrageous guests. Four scandalous requests. And one lone bellhop, in his first day on the job, who's in for the wildest New year's Eve of his life. |     6.5      |    530     |\n",
       "|    11    |                       Star Wars                        | 1977-05-25 00:00:00.000000 |  11000000 |                        <a href=http://www.starwars.com/films/star-wars-episode-iv-a-new-hope>http://www.starwars.com/films/star-wars-episode-iv-a-new-hope</a>                        |         en        |                       Star Wars                        |                                                       Princess Leia is captured and held hostage by the evil Imperial forces in their effort to take over the galactic Empire. Venturesome Luke Skywalker and dashing captain Han Solo team together with the loveable robot duo R2-D2 and C-3PO to rescue the beautiful princess and restore peace and justice in the Empire.                                                      | 126.393695 | 775398007.0 |  121.0  |    Released    |                                                         A long time ago in a galaxy far, far away...                                                        |     8.1      |    6624    |\n",
       "|    12    |                      Finding Nemo                      | 2003-05-30 00:00:00.000000 |  94000000 |                                                <a href=http://movies.disney.com/finding-nemo>http://movies.disney.com/finding-nemo</a>                                                |         en        |                      Finding Nemo                      |                                            Nemo, an adventurous young clownfish, is unexpectedly taken from his Great Barrier Reef home to a dentist's office aquarium. It's up to his worrisome father Marlin and a friendly but forgetful fish Dory to bring Nemo home -- meeting vegetarian sharks, surfer dude turtles, hypnotic jellyfish, hungry seagulls, and more along the way.                                            | 85.688789  | 940335536.0 |  100.0  |    Released    |                                              There are 3.7 trillion fish in the ocean, they're looking for one.                                             |     7.6      |    6122    |\n",
       "|    13    |                      Forrest Gump                      | 1994-07-06 00:00:00.000000 |  55000000 |                                                                                          None                                                                                         |         en        |                      Forrest Gump                      |        A man with a low IQ has accomplished great things in his life and been present during significant historic events - in each case, far exceeding what anyone imagined he could do. Yet, despite all the things he has attained, his one true love eludes him. 'Forrest Gump' is the story of a man who rose above his challenges, and who proved that determination, courage, and love are more important than ability.       | 138.133331 | 677945399.0 |  142.0  |    Released    |                                   The world will never be the same, once you've seen it through the eyes of Forrest Gump.                                   |     8.2      |    7927    |\n",
       "|    14    |                    American Beauty                     | 1999-09-15 00:00:00.000000 |  15000000 |                                                        <a href=http://www.dreamworks.com/ab/>http://www.dreamworks.com/ab/</a>                                                        |         en        |                    American Beauty                     |                                                                                                                           Lester Burnham, a depressed suburban father in a mid-life crisis, decides to turn his hectic life around after developing an infatuation with his daughter's attractive friend.                                                                                                                           | 80.878605  | 356296601.0 |  122.0  |    Released    |                                                                         Look closer.                                                                        |     7.9      |    3313    |\n",
       "|    16    |                   Dancer in the Dark                   | 2000-05-17 00:00:00.000000 |  12800000 |                                                                                          None                                                                                         |         en        |                   Dancer in the Dark                   | Selma, a Czech immigrant on the verge of blindness, struggles to make ends meet for herself and her son, who has inherited the same genetic disorder and will suffer the same fate without an expensive operation. When life gets too difficult, Selma learns to cope through her love of musicals, escaping life's troubles - even if just for a moment - by dreaming up little numbers to the rhythmic beats of her surroundings. | 22.022228  |  40031879.0 |  140.0  |    Released    |                                                                 You don't need eyes to see.                                                                 |     7.6      |    377     |\n",
       "|    18    |                   The Fifth Element                    | 1997-05-07 00:00:00.000000 |  90000000 |                                                                                          None                                                                                         |         en        |                   The Fifth Element                    |                                                                                                                                          In 2257, a taxi driver is unintentionally given the task of saving a young girl who is part of the key that will ensure the survival of humanity.                                                                                                                                          | 109.528572 | 263920180.0 |  126.0  |    Released    |                                                                There is no future without it.                                                               |     7.3      |    3885    |\n",
       "|    19    |                       Metropolis                       | 1927-01-10 00:00:00.000000 |  92620000 |                                                                                          None                                                                                         |         de        |                       Metropolis                       |                                                                                                 In a futuristic city sharply divided between the working class and the city planners, the son of the city's mastermind falls in love with a working class prophet who predicts the coming of a savior to mediate their differences.                                                                                                 | 32.351527  |   650422.0  |  153.0  |    Released    |                               There can be no understanding between the hands and the brain unless the heart acts as mediator.                              |     8.0      |    657     |\n",
       "|    20    |                   My Life Without Me                   | 2003-03-07 00:00:00.000000 |     0     | <a href=http://www.clubcultura.com/clubcine/clubcineastas/isabelcoixet/mividasinmi/index.htm>http://www.clubcultura.com/clubcine/clubcineastas/isabelcoixet/mividasinmi/index.htm</a> |         en        |                   My Life Without Me                   |                                                                                                                     A Pedro Almodovar production in which a fatally ill mother with only two months to live creates a list of things she wants to do before she dies with out telling her family of her illness.                                                                                                                    |  7.958831  |  9726954.0  |  106.0  |    Released    |                                                                             None                                                                            |     7.2      |     77     |\n",
       "|    22    | Pirates of the Caribbean: The Curse of the Black Pearl | 2003-07-09 00:00:00.000000 | 140000000 |             <a href=http://disney.go.com/disneyvideos/liveaction/pirates/main_site/main.html>http://disney.go.com/disneyvideos/liveaction/pirates/main_site/main.html</a>             |         en        | Pirates of the Caribbean: The Curse of the Black Pearl |                                                                Jack Sparrow, a freewheeling 17th-century pirate who roams the Caribbean Sea, butts heads with a rival pirate bent on pillaging the village of Port Royal. When the governor's daughter is kidnapped, Sparrow decides to help the girl's love save her. But their seafaring mission is hardly simple.                                                                | 271.972889 | 655011224.0 |  143.0  |    Released    |                                                            Prepare to be blown out of the water.                                                            |     7.5      |    6985    |\n",
       "+----------+--------------------------------------------------------+----------------------------+-----------+---------------------------------------------------------------------------------------------------------------------------------------------------------------------------------------+-------------------+--------------------------------------------------------+-------------------------------------------------------------------------------------------------------------------------------------------------------------------------------------------------------------------------------------------------------------------------------------------------------------------------------------------------------------------------------------------------------------------------------------+------------+-------------+---------+----------------+-------------------------------------------------------------------------------------------------------------------------------------------------------------+--------------+------------+\n",
       "Truncated to displaylimit of 10."
      ]
     },
     "execution_count": 3,
     "metadata": {},
     "output_type": "execute_result"
    }
   ],
   "source": [
    "%%sql\n",
    "SELECT * \n",
    "FROM movies;"
   ]
  },
  {
   "cell_type": "code",
   "execution_count": null,
   "id": "95ce3ab1",
   "metadata": {},
   "outputs": [],
   "source": [
    "How many unique awards are there in the Oscars table?"
   ]
  },
  {
   "cell_type": "code",
   "execution_count": 29,
   "id": "900e6ce0",
   "metadata": {},
   "outputs": [
    {
     "data": {
      "text/html": [
       "<span style=\"None\">Running query in &#x27;sqlite:///TMDB-a-4006.db&#x27;</span>"
      ],
      "text/plain": [
       "Running query in 'sqlite:///TMDB-a-4006.db'"
      ]
     },
     "metadata": {},
     "output_type": "display_data"
    },
    {
     "data": {
      "text/html": [
       "<table>\n",
       "    <thead>\n",
       "        <tr>\n",
       "            <th>COUNT(DISTINCT award)</th>\n",
       "        </tr>\n",
       "    </thead>\n",
       "    <tbody>\n",
       "        <tr>\n",
       "            <td>114</td>\n",
       "        </tr>\n",
       "    </tbody>\n",
       "</table>"
      ],
      "text/plain": [
       "+-----------------------+\n",
       "| COUNT(DISTINCT award) |\n",
       "+-----------------------+\n",
       "|          114          |\n",
       "+-----------------------+"
      ]
     },
     "execution_count": 29,
     "metadata": {},
     "output_type": "execute_result"
    }
   ],
   "source": [
    "%%sql\n",
    "SELECT\n",
    "COUNT(DISTINCT award)\n",
    "FROM oscars;"
   ]
  },
  {
   "cell_type": "code",
   "execution_count": null,
   "id": "6e1a9784",
   "metadata": {},
   "outputs": [],
   "source": [
    "How many movies are there that contain the word “Spider” within their title?"
   ]
  },
  {
   "cell_type": "code",
   "execution_count": 35,
   "id": "34f30eee",
   "metadata": {},
   "outputs": [
    {
     "data": {
      "text/html": [
       "<span style=\"None\">Running query in &#x27;sqlite:///TMDB-a-4006.db&#x27;</span>"
      ],
      "text/plain": [
       "Running query in 'sqlite:///TMDB-a-4006.db'"
      ]
     },
     "metadata": {},
     "output_type": "display_data"
    },
    {
     "data": {
      "text/html": [
       "<table>\n",
       "    <thead>\n",
       "        <tr>\n",
       "            <th>COUNT(DISTINCT title)</th>\n",
       "        </tr>\n",
       "    </thead>\n",
       "    <tbody>\n",
       "        <tr>\n",
       "            <td>9</td>\n",
       "        </tr>\n",
       "    </tbody>\n",
       "</table>"
      ],
      "text/plain": [
       "+-----------------------+\n",
       "| COUNT(DISTINCT title) |\n",
       "+-----------------------+\n",
       "|           9           |\n",
       "+-----------------------+"
      ]
     },
     "execution_count": 35,
     "metadata": {},
     "output_type": "execute_result"
    }
   ],
   "source": [
    "%%sql\n",
    "SELECT\n",
    "COUNT(DISTINCT title)\n",
    "FROM movies\n",
    "WHERE title LIKE '%spider%';"
   ]
  },
  {
   "cell_type": "code",
   "execution_count": null,
   "id": "b99f186f",
   "metadata": {},
   "outputs": [],
   "source": [
    "How many movies are there that are both in the \"Thriller\" genre ?"
   ]
  },
  {
   "cell_type": "code",
   "execution_count": 41,
   "id": "517e60ba",
   "metadata": {},
   "outputs": [
    {
     "data": {
      "text/html": [
       "<span style=\"None\">Running query in &#x27;sqlite:///TMDB-a-4006.db&#x27;</span>"
      ],
      "text/plain": [
       "Running query in 'sqlite:///TMDB-a-4006.db'"
      ]
     },
     "metadata": {},
     "output_type": "display_data"
    },
    {
     "data": {
      "text/html": [
       "<table>\n",
       "    <thead>\n",
       "        <tr>\n",
       "            <th>genre_id</th>\n",
       "            <th>genre_name</th>\n",
       "        </tr>\n",
       "    </thead>\n",
       "    <tbody>\n",
       "        <tr>\n",
       "            <td>53</td>\n",
       "            <td>Thriller</td>\n",
       "        </tr>\n",
       "    </tbody>\n",
       "</table>"
      ],
      "text/plain": [
       "+----------+------------+\n",
       "| genre_id | genre_name |\n",
       "+----------+------------+\n",
       "|    53    |  Thriller  |\n",
       "+----------+------------+"
      ]
     },
     "execution_count": 41,
     "metadata": {},
     "output_type": "execute_result"
    }
   ],
   "source": [
    "%%sql\n",
    "SELECT *\n",
    "FROM genres\n",
    "WHERE genre_name LIKE '%thriller%';"
   ]
  },
  {
   "cell_type": "code",
   "execution_count": null,
   "id": "6d72624d",
   "metadata": {},
   "outputs": [],
   "source": [
    "How many movies contain the word  “love” anywhere in the keywords?"
   ]
  },
  {
   "cell_type": "code",
   "execution_count": 47,
   "id": "995d7b94",
   "metadata": {},
   "outputs": [
    {
     "data": {
      "text/html": [
       "<span style=\"None\">Running query in &#x27;sqlite:///TMDB-a-4006.db&#x27;</span>"
      ],
      "text/plain": [
       "Running query in 'sqlite:///TMDB-a-4006.db'"
      ]
     },
     "metadata": {},
     "output_type": "display_data"
    },
    {
     "data": {
      "text/html": [
       "<table>\n",
       "    <thead>\n",
       "        <tr>\n",
       "            <th>COUNT (DISTINCT keyword_name)</th>\n",
       "        </tr>\n",
       "    </thead>\n",
       "    <tbody>\n",
       "        <tr>\n",
       "            <td>59</td>\n",
       "        </tr>\n",
       "    </tbody>\n",
       "</table>"
      ],
      "text/plain": [
       "+-------------------------------+\n",
       "| COUNT (DISTINCT keyword_name) |\n",
       "+-------------------------------+\n",
       "|               59              |\n",
       "+-------------------------------+"
      ]
     },
     "execution_count": 47,
     "metadata": {},
     "output_type": "execute_result"
    }
   ],
   "source": [
    "%%sql\n",
    "SELECT \n",
    "COUNT (DISTINCT keyword_name)\n",
    "FROM keywords\n",
    "WHERE keyword_name LIKE'%love%';"
   ]
  },
  {
   "cell_type": "code",
   "execution_count": null,
   "id": "eba47dda",
   "metadata": {},
   "outputs": [],
   "source": [
    "Display movies that are both in the \"Thriller\" genre and contain the word “love” anywhere in the keywords"
   ]
  },
  {
   "cell_type": "code",
   "execution_count": 8,
   "id": "25376ebd",
   "metadata": {},
   "outputs": [
    {
     "data": {
      "text/html": [
       "<span style=\"None\">Running query in &#x27;sqlite:///TMDB-a-4006.db&#x27;</span>"
      ],
      "text/plain": [
       "Running query in 'sqlite:///TMDB-a-4006.db'"
      ]
     },
     "metadata": {},
     "output_type": "display_data"
    },
    {
     "data": {
      "text/html": [
       "<table>\n",
       "    <thead>\n",
       "        <tr>\n",
       "            <th>movie_id</th>\n",
       "            <th>keyword_id</th>\n",
       "            <th>genre_id</th>\n",
       "            <th>keyword_name</th>\n",
       "            <th>genre_name</th>\n",
       "        </tr>\n",
       "    </thead>\n",
       "    <tbody>\n",
       "        <tr>\n",
       "            <td>116</td>\n",
       "            <td>128</td>\n",
       "            <td>53</td>\n",
       "            <td>love triangle</td>\n",
       "            <td>Thriller</td>\n",
       "        </tr>\n",
       "        <tr>\n",
       "            <td>242166</td>\n",
       "            <td>128</td>\n",
       "            <td>53</td>\n",
       "            <td>love triangle</td>\n",
       "            <td>Thriller</td>\n",
       "        </tr>\n",
       "        <tr>\n",
       "            <td>1213</td>\n",
       "            <td>725</td>\n",
       "            <td>53</td>\n",
       "            <td>lovesickness</td>\n",
       "            <td>Thriller</td>\n",
       "        </tr>\n",
       "        <tr>\n",
       "            <td>9075</td>\n",
       "            <td>930</td>\n",
       "            <td>53</td>\n",
       "            <td>in love with enemy</td>\n",
       "            <td>Thriller</td>\n",
       "        </tr>\n",
       "        <tr>\n",
       "            <td>1424</td>\n",
       "            <td>1014</td>\n",
       "            <td>53</td>\n",
       "            <td>loss of lover</td>\n",
       "            <td>Thriller</td>\n",
       "        </tr>\n",
       "        <tr>\n",
       "            <td>11362</td>\n",
       "            <td>1014</td>\n",
       "            <td>53</td>\n",
       "            <td>loss of lover</td>\n",
       "            <td>Thriller</td>\n",
       "        </tr>\n",
       "        <tr>\n",
       "            <td>27205</td>\n",
       "            <td>1014</td>\n",
       "            <td>53</td>\n",
       "            <td>loss of lover</td>\n",
       "            <td>Thriller</td>\n",
       "        </tr>\n",
       "        <tr>\n",
       "            <td>1213</td>\n",
       "            <td>1605</td>\n",
       "            <td>53</td>\n",
       "            <td>new love</td>\n",
       "            <td>Thriller</td>\n",
       "        </tr>\n",
       "        <tr>\n",
       "            <td>1988</td>\n",
       "            <td>1605</td>\n",
       "            <td>53</td>\n",
       "            <td>new love</td>\n",
       "            <td>Thriller</td>\n",
       "        </tr>\n",
       "        <tr>\n",
       "            <td>10135</td>\n",
       "            <td>1605</td>\n",
       "            <td>53</td>\n",
       "            <td>new love</td>\n",
       "            <td>Thriller</td>\n",
       "        </tr>\n",
       "    </tbody>\n",
       "</table>\n",
       "<span style=\"font-style:italic;text-align:center;\">Truncated to <a href=\"https://jupysql.ploomber.io/en/latest/api/configuration.html#displaylimit\">displaylimit</a> of 10.</span>"
      ],
      "text/plain": [
       "+----------+------------+----------+--------------------+------------+\n",
       "| movie_id | keyword_id | genre_id |    keyword_name    | genre_name |\n",
       "+----------+------------+----------+--------------------+------------+\n",
       "|   116    |    128     |    53    |   love triangle    |  Thriller  |\n",
       "|  242166  |    128     |    53    |   love triangle    |  Thriller  |\n",
       "|   1213   |    725     |    53    |    lovesickness    |  Thriller  |\n",
       "|   9075   |    930     |    53    | in love with enemy |  Thriller  |\n",
       "|   1424   |    1014    |    53    |   loss of lover    |  Thriller  |\n",
       "|  11362   |    1014    |    53    |   loss of lover    |  Thriller  |\n",
       "|  27205   |    1014    |    53    |   loss of lover    |  Thriller  |\n",
       "|   1213   |    1605    |    53    |      new love      |  Thriller  |\n",
       "|   1988   |    1605    |    53    |      new love      |  Thriller  |\n",
       "|  10135   |    1605    |    53    |      new love      |  Thriller  |\n",
       "+----------+------------+----------+--------------------+------------+\n",
       "Truncated to displaylimit of 10."
      ]
     },
     "execution_count": 8,
     "metadata": {},
     "output_type": "execute_result"
    }
   ],
   "source": [
    "%%sql\n",
    "SELECT\n",
    "M.movie_id,\n",
    "KM.keyword_id,\n",
    "GM.genre_id,\n",
    "K.keyword_name,\n",
    "G.genre_name\n",
    "FROM Keywordmap KM\n",
    "JOIN movies M\n",
    "ON KM.movie_id = M.movie_id\n",
    "JOIN keywords K\n",
    "ON KM.keyword_id = K.keyword_id\n",
    "JOIN Genremap GM\n",
    "ON GM.movie_id = M.movie_id\n",
    "JOIN genres G\n",
    "ON G.genre_id = GM.genre_id\n",
    "WHERE genre_name LIKE '%thriller%'\n",
    "AND keyword_name LIKE '%love%';"
   ]
  },
  {
   "cell_type": "code",
   "execution_count": null,
   "id": "15a312aa",
   "metadata": {},
   "outputs": [],
   "source": [
    "How many movies are there that are both in the \"Thriller\" genre and contain the word “love” anywhere in the keywords?"
   ]
  },
  {
   "cell_type": "code",
   "execution_count": 12,
   "id": "8a5c4102",
   "metadata": {},
   "outputs": [
    {
     "data": {
      "text/html": [
       "<span style=\"None\">Running query in &#x27;sqlite:///TMDB-a-4006.db&#x27;</span>"
      ],
      "text/plain": [
       "Running query in 'sqlite:///TMDB-a-4006.db'"
      ]
     },
     "metadata": {},
     "output_type": "display_data"
    },
    {
     "data": {
      "text/html": [
       "<table>\n",
       "    <thead>\n",
       "        <tr>\n",
       "            <th>COUNT (DISTINCT M.movie_id)</th>\n",
       "            <th>keyword_id</th>\n",
       "            <th>genre_id</th>\n",
       "            <th>keyword_name</th>\n",
       "            <th>genre_name</th>\n",
       "        </tr>\n",
       "    </thead>\n",
       "    <tbody>\n",
       "        <tr>\n",
       "            <td>48</td>\n",
       "            <td>128</td>\n",
       "            <td>53</td>\n",
       "            <td>love triangle</td>\n",
       "            <td>Thriller</td>\n",
       "        </tr>\n",
       "    </tbody>\n",
       "</table>"
      ],
      "text/plain": [
       "+-----------------------------+------------+----------+---------------+------------+\n",
       "| COUNT (DISTINCT M.movie_id) | keyword_id | genre_id |  keyword_name | genre_name |\n",
       "+-----------------------------+------------+----------+---------------+------------+\n",
       "|              48             |    128     |    53    | love triangle |  Thriller  |\n",
       "+-----------------------------+------------+----------+---------------+------------+"
      ]
     },
     "execution_count": 12,
     "metadata": {},
     "output_type": "execute_result"
    }
   ],
   "source": [
    "%%sql\n",
    "SELECT\n",
    "COUNT (DISTINCT M.movie_id),\n",
    "KM.keyword_id,\n",
    "GM.genre_id,\n",
    "K.keyword_name,\n",
    "G.genre_name\n",
    "FROM Keywordmap KM\n",
    "JOIN movies M\n",
    "ON KM.movie_id = M.movie_id\n",
    "JOIN keywords K\n",
    "ON KM.keyword_id = K.keyword_id\n",
    "JOIN Genremap GM\n",
    "ON GM.movie_id = M.movie_id\n",
    "JOIN genres G\n",
    "ON G.genre_id = GM.genre_id\n",
    "WHERE genre_name LIKE '%thriller%'\n",
    "AND keyword_name LIKE '%love%';"
   ]
  },
  {
   "cell_type": "code",
   "execution_count": null,
   "id": "f68bece2",
   "metadata": {},
   "outputs": [],
   "source": [
    "Display movie_ids, their release dates, budget and popularity"
   ]
  },
  {
   "cell_type": "code",
   "execution_count": 29,
   "id": "f055bbe6",
   "metadata": {},
   "outputs": [
    {
     "data": {
      "text/html": [
       "<span style=\"None\">Running query in &#x27;sqlite:///TMDB-a-4006.db&#x27;</span>"
      ],
      "text/plain": [
       "Running query in 'sqlite:///TMDB-a-4006.db'"
      ]
     },
     "metadata": {},
     "output_type": "display_data"
    },
    {
     "data": {
      "text/html": [
       "<table>\n",
       "    <thead>\n",
       "        <tr>\n",
       "            <th>movie_id</th>\n",
       "            <th>release_date</th>\n",
       "            <th>budget</th>\n",
       "            <th>popularity</th>\n",
       "        </tr>\n",
       "    </thead>\n",
       "    <tbody>\n",
       "        <tr>\n",
       "            <td>5</td>\n",
       "            <td>1995-12-09 00:00:00.000000</td>\n",
       "            <td>4000000</td>\n",
       "            <td>22.87623</td>\n",
       "        </tr>\n",
       "        <tr>\n",
       "            <td>11</td>\n",
       "            <td>1977-05-25 00:00:00.000000</td>\n",
       "            <td>11000000</td>\n",
       "            <td>126.393695</td>\n",
       "        </tr>\n",
       "        <tr>\n",
       "            <td>12</td>\n",
       "            <td>2003-05-30 00:00:00.000000</td>\n",
       "            <td>94000000</td>\n",
       "            <td>85.688789</td>\n",
       "        </tr>\n",
       "        <tr>\n",
       "            <td>13</td>\n",
       "            <td>1994-07-06 00:00:00.000000</td>\n",
       "            <td>55000000</td>\n",
       "            <td>138.133331</td>\n",
       "        </tr>\n",
       "        <tr>\n",
       "            <td>14</td>\n",
       "            <td>1999-09-15 00:00:00.000000</td>\n",
       "            <td>15000000</td>\n",
       "            <td>80.878605</td>\n",
       "        </tr>\n",
       "        <tr>\n",
       "            <td>16</td>\n",
       "            <td>2000-05-17 00:00:00.000000</td>\n",
       "            <td>12800000</td>\n",
       "            <td>22.022228</td>\n",
       "        </tr>\n",
       "        <tr>\n",
       "            <td>18</td>\n",
       "            <td>1997-05-07 00:00:00.000000</td>\n",
       "            <td>90000000</td>\n",
       "            <td>109.528572</td>\n",
       "        </tr>\n",
       "        <tr>\n",
       "            <td>19</td>\n",
       "            <td>1927-01-10 00:00:00.000000</td>\n",
       "            <td>92620000</td>\n",
       "            <td>32.351527</td>\n",
       "        </tr>\n",
       "        <tr>\n",
       "            <td>20</td>\n",
       "            <td>2003-03-07 00:00:00.000000</td>\n",
       "            <td>0</td>\n",
       "            <td>7.958831</td>\n",
       "        </tr>\n",
       "        <tr>\n",
       "            <td>22</td>\n",
       "            <td>2003-07-09 00:00:00.000000</td>\n",
       "            <td>140000000</td>\n",
       "            <td>271.972889</td>\n",
       "        </tr>\n",
       "    </tbody>\n",
       "</table>\n",
       "<span style=\"font-style:italic;text-align:center;\">Truncated to <a href=\"https://jupysql.ploomber.io/en/latest/api/configuration.html#displaylimit\">displaylimit</a> of 10.</span>"
      ],
      "text/plain": [
       "+----------+----------------------------+-----------+------------+\n",
       "| movie_id |        release_date        |   budget  | popularity |\n",
       "+----------+----------------------------+-----------+------------+\n",
       "|    5     | 1995-12-09 00:00:00.000000 |  4000000  |  22.87623  |\n",
       "|    11    | 1977-05-25 00:00:00.000000 |  11000000 | 126.393695 |\n",
       "|    12    | 2003-05-30 00:00:00.000000 |  94000000 | 85.688789  |\n",
       "|    13    | 1994-07-06 00:00:00.000000 |  55000000 | 138.133331 |\n",
       "|    14    | 1999-09-15 00:00:00.000000 |  15000000 | 80.878605  |\n",
       "|    16    | 2000-05-17 00:00:00.000000 |  12800000 | 22.022228  |\n",
       "|    18    | 1997-05-07 00:00:00.000000 |  90000000 | 109.528572 |\n",
       "|    19    | 1927-01-10 00:00:00.000000 |  92620000 | 32.351527  |\n",
       "|    20    | 2003-03-07 00:00:00.000000 |     0     |  7.958831  |\n",
       "|    22    | 2003-07-09 00:00:00.000000 | 140000000 | 271.972889 |\n",
       "+----------+----------------------------+-----------+------------+\n",
       "Truncated to displaylimit of 10."
      ]
     },
     "execution_count": 29,
     "metadata": {},
     "output_type": "execute_result"
    }
   ],
   "source": [
    "%%sql\n",
    "SELECT\n",
    "movie_id,\n",
    "release_date,\n",
    "budget,\n",
    "popularity\n",
    "FROM movies;\n"
   ]
  },
  {
   "cell_type": "code",
   "execution_count": null,
   "id": "f8146e80",
   "metadata": {},
   "outputs": [],
   "source": [
    "How many movies are there that were released between 1 August 2006 ('2006-08-01') and 1 October 2009 ('2009-10-01') that have a popularity score of more than 40 and a budget of less than 50 000 000?"
   ]
  },
  {
   "cell_type": "code",
   "execution_count": 25,
   "id": "f7d20254",
   "metadata": {},
   "outputs": [
    {
     "data": {
      "text/html": [
       "<span style=\"None\">Running query in &#x27;sqlite:///TMDB-a-4006.db&#x27;</span>"
      ],
      "text/plain": [
       "Running query in 'sqlite:///TMDB-a-4006.db'"
      ]
     },
     "metadata": {},
     "output_type": "display_data"
    },
    {
     "data": {
      "text/html": [
       "<table>\n",
       "    <thead>\n",
       "        <tr>\n",
       "            <th>COUNT (distinct movie_id)</th>\n",
       "            <th>release_date</th>\n",
       "            <th>budget</th>\n",
       "            <th>popularity</th>\n",
       "        </tr>\n",
       "    </thead>\n",
       "    <tbody>\n",
       "        <tr>\n",
       "            <td>29</td>\n",
       "            <td>2006-10-19 00:00:00.000000</td>\n",
       "            <td>40000000</td>\n",
       "            <td>74.440708</td>\n",
       "        </tr>\n",
       "    </tbody>\n",
       "</table>"
      ],
      "text/plain": [
       "+---------------------------+----------------------------+----------+------------+\n",
       "| COUNT (distinct movie_id) |        release_date        |  budget  | popularity |\n",
       "+---------------------------+----------------------------+----------+------------+\n",
       "|             29            | 2006-10-19 00:00:00.000000 | 40000000 | 74.440708  |\n",
       "+---------------------------+----------------------------+----------+------------+"
      ]
     },
     "execution_count": 25,
     "metadata": {},
     "output_type": "execute_result"
    }
   ],
   "source": [
    "%%sql\n",
    "SELECT\n",
    "COUNT (distinct movie_id),\n",
    "release_date,\n",
    "budget,\n",
    "popularity\n",
    "FROM movies\n",
    "WHERE release_date BETWEEN '2006-08-01' AND '2009-10-01'\n",
    "AND Popularity > 40\n",
    "AND budget < 50000000;"
   ]
  },
  {
   "cell_type": "code",
   "execution_count": null,
   "id": "8ac41e44",
   "metadata": {},
   "outputs": [],
   "source": [
    "How many unique characters has \"Vin Diesel\" played so far in the database?"
   ]
  },
  {
   "cell_type": "code",
   "execution_count": 50,
   "id": "cd8db933",
   "metadata": {},
   "outputs": [
    {
     "data": {
      "text/html": [
       "<span style=\"None\">Running query in &#x27;sqlite:///TMDB-a-4006.db&#x27;</span>"
      ],
      "text/plain": [
       "Running query in 'sqlite:///TMDB-a-4006.db'"
      ]
     },
     "metadata": {},
     "output_type": "display_data"
    },
    {
     "data": {
      "text/html": [
       "<table>\n",
       "    <thead>\n",
       "        <tr>\n",
       "            <th>actor_id</th>\n",
       "            <th>actor_name</th>\n",
       "            <th>COUNT (DISTINCT C.characters)</th>\n",
       "        </tr>\n",
       "    </thead>\n",
       "    <tbody>\n",
       "        <tr>\n",
       "            <td>12835</td>\n",
       "            <td>Vin Diesel</td>\n",
       "            <td>16</td>\n",
       "        </tr>\n",
       "    </tbody>\n",
       "</table>"
      ],
      "text/plain": [
       "+----------+------------+-------------------------------+\n",
       "| actor_id | actor_name | COUNT (DISTINCT C.characters) |\n",
       "+----------+------------+-------------------------------+\n",
       "|  12835   | Vin Diesel |               16              |\n",
       "+----------+------------+-------------------------------+"
      ]
     },
     "execution_count": 50,
     "metadata": {},
     "output_type": "execute_result"
    }
   ],
   "source": [
    "%%sql\n",
    "SELECT\n",
    "A.actor_id,\n",
    "A.actor_name,\n",
    "COUNT (DISTINCT C.characters)\n",
    "FROM actors A\n",
    "JOIN Casts C\n",
    "ON A.actor_id = C.actor_id\n",
    "WHERE actor_name LIKE '%vin diesel%';"
   ]
  },
  {
   "cell_type": "code",
   "execution_count": null,
   "id": "ac7c80cf",
   "metadata": {},
   "outputs": [],
   "source": [
    "Display all genres"
   ]
  },
  {
   "cell_type": "code",
   "execution_count": 51,
   "id": "4ae2fadb",
   "metadata": {},
   "outputs": [
    {
     "data": {
      "text/html": [
       "<span style=\"None\">Running query in &#x27;sqlite:///TMDB-a-4006.db&#x27;</span>"
      ],
      "text/plain": [
       "Running query in 'sqlite:///TMDB-a-4006.db'"
      ]
     },
     "metadata": {},
     "output_type": "display_data"
    },
    {
     "data": {
      "text/html": [
       "<table>\n",
       "    <thead>\n",
       "        <tr>\n",
       "            <th>genre_id</th>\n",
       "            <th>genre_name</th>\n",
       "        </tr>\n",
       "    </thead>\n",
       "    <tbody>\n",
       "        <tr>\n",
       "            <td>12</td>\n",
       "            <td>Adventure</td>\n",
       "        </tr>\n",
       "        <tr>\n",
       "            <td>14</td>\n",
       "            <td>Fantasy</td>\n",
       "        </tr>\n",
       "        <tr>\n",
       "            <td>16</td>\n",
       "            <td>Animation</td>\n",
       "        </tr>\n",
       "        <tr>\n",
       "            <td>18</td>\n",
       "            <td>Drama</td>\n",
       "        </tr>\n",
       "        <tr>\n",
       "            <td>27</td>\n",
       "            <td>Horror</td>\n",
       "        </tr>\n",
       "        <tr>\n",
       "            <td>28</td>\n",
       "            <td>Action</td>\n",
       "        </tr>\n",
       "        <tr>\n",
       "            <td>35</td>\n",
       "            <td>Comedy</td>\n",
       "        </tr>\n",
       "        <tr>\n",
       "            <td>36</td>\n",
       "            <td>History</td>\n",
       "        </tr>\n",
       "        <tr>\n",
       "            <td>37</td>\n",
       "            <td>Western</td>\n",
       "        </tr>\n",
       "        <tr>\n",
       "            <td>53</td>\n",
       "            <td>Thriller</td>\n",
       "        </tr>\n",
       "    </tbody>\n",
       "</table>\n",
       "<span style=\"font-style:italic;text-align:center;\">Truncated to <a href=\"https://jupysql.ploomber.io/en/latest/api/configuration.html#displaylimit\">displaylimit</a> of 10.</span>"
      ],
      "text/plain": [
       "+----------+------------+\n",
       "| genre_id | genre_name |\n",
       "+----------+------------+\n",
       "|    12    | Adventure  |\n",
       "|    14    |  Fantasy   |\n",
       "|    16    | Animation  |\n",
       "|    18    |   Drama    |\n",
       "|    27    |   Horror   |\n",
       "|    28    |   Action   |\n",
       "|    35    |   Comedy   |\n",
       "|    36    |  History   |\n",
       "|    37    |  Western   |\n",
       "|    53    |  Thriller  |\n",
       "+----------+------------+\n",
       "Truncated to displaylimit of 10."
      ]
     },
     "execution_count": 51,
     "metadata": {},
     "output_type": "execute_result"
    }
   ],
   "source": [
    "%%sql\n",
    "SELECT *\n",
    "FROM Genres;"
   ]
  },
  {
   "cell_type": "code",
   "execution_count": null,
   "id": "ffe41703",
   "metadata": {},
   "outputs": [],
   "source": [
    "What are the genres of the movie “The Royal Tenenbaums”?"
   ]
  },
  {
   "cell_type": "code",
   "execution_count": 55,
   "id": "9c46991c",
   "metadata": {},
   "outputs": [
    {
     "data": {
      "text/html": [
       "<span style=\"None\">Running query in &#x27;sqlite:///TMDB-a-4006.db&#x27;</span>"
      ],
      "text/plain": [
       "Running query in 'sqlite:///TMDB-a-4006.db'"
      ]
     },
     "metadata": {},
     "output_type": "display_data"
    },
    {
     "data": {
      "text/html": [
       "<table>\n",
       "    <thead>\n",
       "        <tr>\n",
       "            <th>title</th>\n",
       "            <th>movie_id</th>\n",
       "            <th>genre_name</th>\n",
       "        </tr>\n",
       "    </thead>\n",
       "    <tbody>\n",
       "        <tr>\n",
       "            <td>The Royal Tenenbaums</td>\n",
       "            <td>9428</td>\n",
       "            <td>Drama</td>\n",
       "        </tr>\n",
       "        <tr>\n",
       "            <td>The Royal Tenenbaums</td>\n",
       "            <td>9428</td>\n",
       "            <td>Comedy</td>\n",
       "        </tr>\n",
       "    </tbody>\n",
       "</table>"
      ],
      "text/plain": [
       "+----------------------+----------+------------+\n",
       "|        title         | movie_id | genre_name |\n",
       "+----------------------+----------+------------+\n",
       "| The Royal Tenenbaums |   9428   |   Drama    |\n",
       "| The Royal Tenenbaums |   9428   |   Comedy   |\n",
       "+----------------------+----------+------------+"
      ]
     },
     "execution_count": 55,
     "metadata": {},
     "output_type": "execute_result"
    }
   ],
   "source": [
    "%%sql\n",
    "SELECT\n",
    "M.title,\n",
    "GM.movie_id,\n",
    "G.genre_name\n",
    "FROM movies M\n",
    "JOIN Genremap GM\n",
    "ON M.movie_ID = GM.movie_id\n",
    "JOIN Genres G\n",
    "ON GM.genre_id = G.genre_id\n",
    "WHERE m.title LIKE '%The Royal Tenenbaums%';"
   ]
  },
  {
   "cell_type": "code",
   "execution_count": null,
   "id": "2c528953",
   "metadata": {},
   "outputs": [],
   "source": [
    "Select movie_id per avg popularity score"
   ]
  },
  {
   "cell_type": "code",
   "execution_count": 59,
   "id": "f9cfd394",
   "metadata": {},
   "outputs": [
    {
     "data": {
      "text/html": [
       "<span style=\"None\">Running query in &#x27;sqlite:///TMDB-a-4006.db&#x27;</span>"
      ],
      "text/plain": [
       "Running query in 'sqlite:///TMDB-a-4006.db'"
      ]
     },
     "metadata": {},
     "output_type": "display_data"
    },
    {
     "data": {
      "text/html": [
       "<table>\n",
       "    <thead>\n",
       "        <tr>\n",
       "            <th>movie_id</th>\n",
       "            <th>popularity</th>\n",
       "            <th>production_company_name</th>\n",
       "        </tr>\n",
       "    </thead>\n",
       "    <tbody>\n",
       "        <tr>\n",
       "            <td>11</td>\n",
       "            <td>126.393695</td>\n",
       "            <td>Lucasfilm</td>\n",
       "        </tr>\n",
       "        <tr>\n",
       "            <td>85</td>\n",
       "            <td>68.159596</td>\n",
       "            <td>Lucasfilm</td>\n",
       "        </tr>\n",
       "        <tr>\n",
       "            <td>87</td>\n",
       "            <td>66.976776</td>\n",
       "            <td>Lucasfilm</td>\n",
       "        </tr>\n",
       "        <tr>\n",
       "            <td>89</td>\n",
       "            <td>80.972475</td>\n",
       "            <td>Lucasfilm</td>\n",
       "        </tr>\n",
       "        <tr>\n",
       "            <td>217</td>\n",
       "            <td>75.674458</td>\n",
       "            <td>Lucasfilm</td>\n",
       "        </tr>\n",
       "        <tr>\n",
       "            <td>838</td>\n",
       "            <td>19.326115</td>\n",
       "            <td>Lucasfilm</td>\n",
       "        </tr>\n",
       "        <tr>\n",
       "            <td>1891</td>\n",
       "            <td>78.51783</td>\n",
       "            <td>Lucasfilm</td>\n",
       "        </tr>\n",
       "        <tr>\n",
       "            <td>1892</td>\n",
       "            <td>46.509071</td>\n",
       "            <td>Lucasfilm</td>\n",
       "        </tr>\n",
       "        <tr>\n",
       "            <td>1893</td>\n",
       "            <td>54.035265</td>\n",
       "            <td>Lucasfilm</td>\n",
       "        </tr>\n",
       "        <tr>\n",
       "            <td>1894</td>\n",
       "            <td>43.987061</td>\n",
       "            <td>Lucasfilm</td>\n",
       "        </tr>\n",
       "    </tbody>\n",
       "</table>\n",
       "<span style=\"font-style:italic;text-align:center;\">Truncated to <a href=\"https://jupysql.ploomber.io/en/latest/api/configuration.html#displaylimit\">displaylimit</a> of 10.</span>"
      ],
      "text/plain": [
       "+----------+------------+-------------------------+\n",
       "| movie_id | popularity | production_company_name |\n",
       "+----------+------------+-------------------------+\n",
       "|    11    | 126.393695 |        Lucasfilm        |\n",
       "|    85    | 68.159596  |        Lucasfilm        |\n",
       "|    87    | 66.976776  |        Lucasfilm        |\n",
       "|    89    | 80.972475  |        Lucasfilm        |\n",
       "|   217    | 75.674458  |        Lucasfilm        |\n",
       "|   838    | 19.326115  |        Lucasfilm        |\n",
       "|   1891   |  78.51783  |        Lucasfilm        |\n",
       "|   1892   | 46.509071  |        Lucasfilm        |\n",
       "|   1893   | 54.035265  |        Lucasfilm        |\n",
       "|   1894   | 43.987061  |        Lucasfilm        |\n",
       "+----------+------------+-------------------------+\n",
       "Truncated to displaylimit of 10."
      ]
     },
     "execution_count": 59,
     "metadata": {},
     "output_type": "execute_result"
    }
   ],
   "source": [
    "%%sql\n",
    "SELECT\n",
    "PM.movie_id,\n",
    "M.popularity,\n",
    "P.production_company_name\n",
    "FROM movies M\n",
    "JOIN Productioncompanymap PM\n",
    "ON PM.movie_id = M.movie_id\n",
    "JOIN productioncompanies P\n",
    "ON P.production_company_id = PM.production_company_id;\n"
   ]
  },
  {
   "cell_type": "code",
   "execution_count": null,
   "id": "ca676df2",
   "metadata": {},
   "outputs": [],
   "source": [
    "What are the three production companies that have the highest movie popularity score on average, as recorded within the database?"
   ]
  },
  {
   "cell_type": "code",
   "execution_count": 81,
   "id": "ff6c1d65",
   "metadata": {},
   "outputs": [
    {
     "data": {
      "text/html": [
       "<span style=\"None\">Running query in &#x27;sqlite:///TMDB-a-4006.db&#x27;</span>"
      ],
      "text/plain": [
       "Running query in 'sqlite:///TMDB-a-4006.db'"
      ]
     },
     "metadata": {},
     "output_type": "display_data"
    },
    {
     "data": {
      "text/html": [
       "<table>\n",
       "    <thead>\n",
       "        <tr>\n",
       "            <th>production_company_name</th>\n",
       "            <th>average_popularity</th>\n",
       "        </tr>\n",
       "    </thead>\n",
       "    <tbody>\n",
       "        <tr>\n",
       "            <td>The Donners' Company</td>\n",
       "            <td>514.569956</td>\n",
       "        </tr>\n",
       "        <tr>\n",
       "            <td>Bulletproof Cupid</td>\n",
       "            <td>481.098624</td>\n",
       "        </tr>\n",
       "        <tr>\n",
       "            <td>Kinberg Genre</td>\n",
       "            <td>326.92099900000005</td>\n",
       "        </tr>\n",
       "        <tr>\n",
       "            <td>Illumination Entertainment</td>\n",
       "            <td>234.9200424</td>\n",
       "        </tr>\n",
       "        <tr>\n",
       "            <td>Vita-Ray Dutch Productions (III)</td>\n",
       "            <td>198.372395</td>\n",
       "        </tr>\n",
       "        <tr>\n",
       "            <td>Deluxe Digital Studios</td>\n",
       "            <td>198.372395</td>\n",
       "        </tr>\n",
       "        <tr>\n",
       "            <td>Syncopy</td>\n",
       "            <td>192.4171875</td>\n",
       "        </tr>\n",
       "        <tr>\n",
       "            <td>Lynda Obst Productions</td>\n",
       "            <td>192.22636225</td>\n",
       "        </tr>\n",
       "        <tr>\n",
       "            <td>Cruel & Unusual Films</td>\n",
       "            <td>155.790452</td>\n",
       "        </tr>\n",
       "        <tr>\n",
       "            <td>Linson Films</td>\n",
       "            <td>146.757391</td>\n",
       "        </tr>\n",
       "    </tbody>\n",
       "</table>\n",
       "<span style=\"font-style:italic;text-align:center;\">Truncated to <a href=\"https://jupysql.ploomber.io/en/latest/api/configuration.html#displaylimit\">displaylimit</a> of 10.</span>"
      ],
      "text/plain": [
       "+----------------------------------+--------------------+\n",
       "|     production_company_name      | average_popularity |\n",
       "+----------------------------------+--------------------+\n",
       "|       The Donners' Company       |     514.569956     |\n",
       "|        Bulletproof Cupid         |     481.098624     |\n",
       "|          Kinberg Genre           | 326.92099900000005 |\n",
       "|    Illumination Entertainment    |    234.9200424     |\n",
       "| Vita-Ray Dutch Productions (III) |     198.372395     |\n",
       "|      Deluxe Digital Studios      |     198.372395     |\n",
       "|             Syncopy              |    192.4171875     |\n",
       "|      Lynda Obst Productions      |    192.22636225    |\n",
       "|      Cruel & Unusual Films       |     155.790452     |\n",
       "|           Linson Films           |     146.757391     |\n",
       "+----------------------------------+--------------------+\n",
       "Truncated to displaylimit of 10."
      ]
     },
     "execution_count": 81,
     "metadata": {},
     "output_type": "execute_result"
    }
   ],
   "source": [
    "%%sql\n",
    "SELECT production_company_name, \n",
    "AVG(popularity) as average_popularity\n",
    "FROM movies as m\n",
    "JOIN productioncompanymap as pm\n",
    "ON pm.movie_id = m.movie_id\n",
    "JOIN productioncompanies as p\n",
    "ON pm.production_company_id = p.production_company_id\n",
    "GROUP BY  production_company_name\n",
    "ORDER BY Average_popularity DESC;"
   ]
  },
  {
   "cell_type": "code",
   "execution_count": null,
   "id": "167173f8",
   "metadata": {},
   "outputs": [],
   "source": [
    "Display all actors"
   ]
  },
  {
   "cell_type": "code",
   "execution_count": 70,
   "id": "b92141ba",
   "metadata": {},
   "outputs": [
    {
     "data": {
      "text/html": [
       "<span style=\"None\">Running query in &#x27;sqlite:///TMDB-a-4006.db&#x27;</span>"
      ],
      "text/plain": [
       "Running query in 'sqlite:///TMDB-a-4006.db'"
      ]
     },
     "metadata": {},
     "output_type": "display_data"
    },
    {
     "data": {
      "text/html": [
       "<table>\n",
       "    <thead>\n",
       "        <tr>\n",
       "            <th>actor_id</th>\n",
       "            <th>actor_name</th>\n",
       "            <th>gender</th>\n",
       "        </tr>\n",
       "    </thead>\n",
       "    <tbody>\n",
       "        <tr>\n",
       "            <td>1</td>\n",
       "            <td>George Lucas</td>\n",
       "            <td>2</td>\n",
       "        </tr>\n",
       "        <tr>\n",
       "            <td>2</td>\n",
       "            <td>Mark Hamill</td>\n",
       "            <td>2</td>\n",
       "        </tr>\n",
       "        <tr>\n",
       "            <td>3</td>\n",
       "            <td>Harrison Ford</td>\n",
       "            <td>2</td>\n",
       "        </tr>\n",
       "        <tr>\n",
       "            <td>4</td>\n",
       "            <td>Carrie Fisher</td>\n",
       "            <td>1</td>\n",
       "        </tr>\n",
       "        <tr>\n",
       "            <td>5</td>\n",
       "            <td>Peter Cushing</td>\n",
       "            <td>2</td>\n",
       "        </tr>\n",
       "        <tr>\n",
       "            <td>6</td>\n",
       "            <td>Anthony Daniels</td>\n",
       "            <td>2</td>\n",
       "        </tr>\n",
       "        <tr>\n",
       "            <td>7</td>\n",
       "            <td>Andrew Stanton</td>\n",
       "            <td>2</td>\n",
       "        </tr>\n",
       "        <tr>\n",
       "            <td>8</td>\n",
       "            <td>Lee Unkrich</td>\n",
       "            <td>2</td>\n",
       "        </tr>\n",
       "        <tr>\n",
       "            <td>10</td>\n",
       "            <td>Bob Peterson</td>\n",
       "            <td>2</td>\n",
       "        </tr>\n",
       "        <tr>\n",
       "            <td>11</td>\n",
       "            <td>David Reynolds</td>\n",
       "            <td>2</td>\n",
       "        </tr>\n",
       "    </tbody>\n",
       "</table>\n",
       "<span style=\"font-style:italic;text-align:center;\">Truncated to <a href=\"https://jupysql.ploomber.io/en/latest/api/configuration.html#displaylimit\">displaylimit</a> of 10.</span>"
      ],
      "text/plain": [
       "+----------+-----------------+--------+\n",
       "| actor_id |    actor_name   | gender |\n",
       "+----------+-----------------+--------+\n",
       "|    1     |   George Lucas  |   2    |\n",
       "|    2     |   Mark Hamill   |   2    |\n",
       "|    3     |  Harrison Ford  |   2    |\n",
       "|    4     |  Carrie Fisher  |   1    |\n",
       "|    5     |  Peter Cushing  |   2    |\n",
       "|    6     | Anthony Daniels |   2    |\n",
       "|    7     |  Andrew Stanton |   2    |\n",
       "|    8     |   Lee Unkrich   |   2    |\n",
       "|    10    |   Bob Peterson  |   2    |\n",
       "|    11    |  David Reynolds |   2    |\n",
       "+----------+-----------------+--------+\n",
       "Truncated to displaylimit of 10."
      ]
     },
     "execution_count": 70,
     "metadata": {},
     "output_type": "execute_result"
    }
   ],
   "source": [
    "%%sql\n",
    "SELECT *\n",
    "FROM actors;"
   ]
  },
  {
   "cell_type": "code",
   "execution_count": null,
   "id": "9f89910d",
   "metadata": {},
   "outputs": [],
   "source": [
    "How many female actors (i.e. gender = 1) have a name that starts with the letter \"N\"?"
   ]
  },
  {
   "cell_type": "code",
   "execution_count": 68,
   "id": "127c241d",
   "metadata": {},
   "outputs": [
    {
     "data": {
      "text/html": [
       "<span style=\"None\">Running query in &#x27;sqlite:///TMDB-a-4006.db&#x27;</span>"
      ],
      "text/plain": [
       "Running query in 'sqlite:///TMDB-a-4006.db'"
      ]
     },
     "metadata": {},
     "output_type": "display_data"
    },
    {
     "data": {
      "text/html": [
       "<table>\n",
       "    <thead>\n",
       "        <tr>\n",
       "            <th>COUNT(actor_name)</th>\n",
       "            <th>gender</th>\n",
       "        </tr>\n",
       "    </thead>\n",
       "    <tbody>\n",
       "        <tr>\n",
       "            <td>355</td>\n",
       "            <td>1</td>\n",
       "        </tr>\n",
       "    </tbody>\n",
       "</table>"
      ],
      "text/plain": [
       "+-------------------+--------+\n",
       "| COUNT(actor_name) | gender |\n",
       "+-------------------+--------+\n",
       "|        355        |   1    |\n",
       "+-------------------+--------+"
      ]
     },
     "execution_count": 68,
     "metadata": {},
     "output_type": "execute_result"
    }
   ],
   "source": [
    "%%sql\n",
    "SELECT \n",
    "COUNT(actor_name),\n",
    "Gender\n",
    "FROM actors\n",
    "WHERE gender = 1\n",
    "AND actor_name LIKE 'N%';"
   ]
  },
  {
   "cell_type": "code",
   "execution_count": null,
   "id": "a8efc362",
   "metadata": {},
   "outputs": [],
   "source": [
    "Which genre has, on average, the lowest movie popularity score?"
   ]
  },
  {
   "cell_type": "code",
   "execution_count": 84,
   "id": "cd653ba4",
   "metadata": {},
   "outputs": [
    {
     "data": {
      "text/html": [
       "<span style=\"None\">Running query in &#x27;sqlite:///TMDB-a-4006.db&#x27;</span>"
      ],
      "text/plain": [
       "Running query in 'sqlite:///TMDB-a-4006.db'"
      ]
     },
     "metadata": {},
     "output_type": "display_data"
    },
    {
     "data": {
      "text/html": [
       "<table>\n",
       "    <thead>\n",
       "        <tr>\n",
       "            <th>movie_id</th>\n",
       "            <th>avg_popularity</th>\n",
       "            <th>genre_name</th>\n",
       "        </tr>\n",
       "    </thead>\n",
       "    <tbody>\n",
       "        <tr>\n",
       "            <td>7509</td>\n",
       "            <td>0.686786794117647</td>\n",
       "            <td>Foreign</td>\n",
       "        </tr>\n",
       "        <tr>\n",
       "            <td>291</td>\n",
       "            <td>3.945723809090908</td>\n",
       "            <td>Documentary</td>\n",
       "        </tr>\n",
       "        <tr>\n",
       "            <td>10947</td>\n",
       "            <td>6.389414749999999</td>\n",
       "            <td>TV Movie</td>\n",
       "        </tr>\n",
       "        <tr>\n",
       "            <td>16</td>\n",
       "            <td>13.101512475675676</td>\n",
       "            <td>Music</td>\n",
       "        </tr>\n",
       "        <tr>\n",
       "            <td>13</td>\n",
       "            <td>15.962426457494416</td>\n",
       "            <td>Romance</td>\n",
       "        </tr>\n",
       "        <tr>\n",
       "            <td>79</td>\n",
       "            <td>17.444838720812175</td>\n",
       "            <td>History</td>\n",
       "        </tr>\n",
       "        <tr>\n",
       "            <td>13</td>\n",
       "            <td>17.764853371789304</td>\n",
       "            <td>Drama</td>\n",
       "        </tr>\n",
       "        <tr>\n",
       "            <td>5</td>\n",
       "            <td>18.221000988966285</td>\n",
       "            <td>Comedy</td>\n",
       "        </tr>\n",
       "        <tr>\n",
       "            <td>33</td>\n",
       "            <td>18.23627854878048</td>\n",
       "            <td>Western</td>\n",
       "        </tr>\n",
       "        <tr>\n",
       "            <td>170</td>\n",
       "            <td>18.295915104046244</td>\n",
       "            <td>Horror</td>\n",
       "        </tr>\n",
       "    </tbody>\n",
       "</table>\n",
       "<span style=\"font-style:italic;text-align:center;\">Truncated to <a href=\"https://jupysql.ploomber.io/en/latest/api/configuration.html#displaylimit\">displaylimit</a> of 10.</span>"
      ],
      "text/plain": [
       "+----------+--------------------+-------------+\n",
       "| movie_id |   avg_popularity   |  genre_name |\n",
       "+----------+--------------------+-------------+\n",
       "|   7509   | 0.686786794117647  |   Foreign   |\n",
       "|   291    | 3.945723809090908  | Documentary |\n",
       "|  10947   | 6.389414749999999  |   TV Movie  |\n",
       "|    16    | 13.101512475675676 |    Music    |\n",
       "|    13    | 15.962426457494416 |   Romance   |\n",
       "|    79    | 17.444838720812175 |   History   |\n",
       "|    13    | 17.764853371789304 |    Drama    |\n",
       "|    5     | 18.221000988966285 |    Comedy   |\n",
       "|    33    | 18.23627854878048  |   Western   |\n",
       "|   170    | 18.295915104046244 |    Horror   |\n",
       "+----------+--------------------+-------------+\n",
       "Truncated to displaylimit of 10."
      ]
     },
     "execution_count": 84,
     "metadata": {},
     "output_type": "execute_result"
    }
   ],
   "source": [
    "%%sql\n",
    "SELECT\n",
    "GM.movie_id,\n",
    "AVG (M.popularity) AS avg_popularity,\n",
    "G.genre_name\n",
    "FROM movies M\n",
    "JOIN Genremap GM\n",
    "ON M.movie_id = GM.movie_id\n",
    "JOIN genres G\n",
    "ON G.genre_id = GM.genre_id\n",
    "GROUP BY genre_name\n",
    "ORDER BY avg_popularity ASC;\n",
    "\n"
   ]
  },
  {
   "cell_type": "code",
   "execution_count": null,
   "id": "1de2d2c1",
   "metadata": {},
   "outputs": [],
   "source": [
    "Code to display all Oscar awards\n"
   ]
  },
  {
   "cell_type": "code",
   "execution_count": 92,
   "id": "dc7b2fcc",
   "metadata": {},
   "outputs": [
    {
     "data": {
      "text/html": [
       "<span style=\"None\">Running query in &#x27;sqlite:///TMDB-a-4006.db&#x27;</span>"
      ],
      "text/plain": [
       "Running query in 'sqlite:///TMDB-a-4006.db'"
      ]
     },
     "metadata": {},
     "output_type": "display_data"
    },
    {
     "data": {
      "text/html": [
       "<table>\n",
       "    <thead>\n",
       "        <tr>\n",
       "            <th>year</th>\n",
       "            <th>award</th>\n",
       "            <th>winner</th>\n",
       "            <th>name</th>\n",
       "            <th>film</th>\n",
       "        </tr>\n",
       "    </thead>\n",
       "    <tbody>\n",
       "        <tr>\n",
       "            <td>1928</td>\n",
       "            <td>Actor</td>\n",
       "            <td>None</td>\n",
       "            <td>Richard Barthelmess</td>\n",
       "            <td>The Noose</td>\n",
       "        </tr>\n",
       "        <tr>\n",
       "            <td>1928</td>\n",
       "            <td>Actor</td>\n",
       "            <td>1.0</td>\n",
       "            <td>Emil Jannings</td>\n",
       "            <td>The Last Command</td>\n",
       "        </tr>\n",
       "        <tr>\n",
       "            <td>1928</td>\n",
       "            <td>Actress</td>\n",
       "            <td>None</td>\n",
       "            <td>Louise Dresser</td>\n",
       "            <td>A Ship Comes In</td>\n",
       "        </tr>\n",
       "        <tr>\n",
       "            <td>1928</td>\n",
       "            <td>Actress</td>\n",
       "            <td>1.0</td>\n",
       "            <td>Janet Gaynor</td>\n",
       "            <td>7th Heaven</td>\n",
       "        </tr>\n",
       "        <tr>\n",
       "            <td>1928</td>\n",
       "            <td>Actress</td>\n",
       "            <td>None</td>\n",
       "            <td>Gloria Swanson</td>\n",
       "            <td>Sadie Thompson</td>\n",
       "        </tr>\n",
       "        <tr>\n",
       "            <td>1928</td>\n",
       "            <td>Art Direction</td>\n",
       "            <td>None</td>\n",
       "            <td>Rochus Gliese</td>\n",
       "            <td>Sunrise</td>\n",
       "        </tr>\n",
       "        <tr>\n",
       "            <td>1928</td>\n",
       "            <td>Art Direction</td>\n",
       "            <td>1.0</td>\n",
       "            <td>William Cameron Menzies</td>\n",
       "            <td>The Dove; Tempest</td>\n",
       "        </tr>\n",
       "        <tr>\n",
       "            <td>1928</td>\n",
       "            <td>Art Direction</td>\n",
       "            <td>None</td>\n",
       "            <td>Harry Oliver</td>\n",
       "            <td>7th Heaven</td>\n",
       "        </tr>\n",
       "        <tr>\n",
       "            <td>1928</td>\n",
       "            <td>Cinematography</td>\n",
       "            <td>None</td>\n",
       "            <td>George Barnes</td>\n",
       "            <td>The Devil Dancer; The Magic Flame; Sadie Thompson</td>\n",
       "        </tr>\n",
       "        <tr>\n",
       "            <td>1928</td>\n",
       "            <td>Cinematography</td>\n",
       "            <td>1.0</td>\n",
       "            <td>Charles Rosher</td>\n",
       "            <td>Sunrise</td>\n",
       "        </tr>\n",
       "    </tbody>\n",
       "</table>\n",
       "<span style=\"font-style:italic;text-align:center;\">Truncated to <a href=\"https://jupysql.ploomber.io/en/latest/api/configuration.html#displaylimit\">displaylimit</a> of 10.</span>"
      ],
      "text/plain": [
       "+------+----------------+--------+-------------------------+---------------------------------------------------+\n",
       "| year |     award      | winner |           name          |                        film                       |\n",
       "+------+----------------+--------+-------------------------+---------------------------------------------------+\n",
       "| 1928 |     Actor      |  None  |   Richard Barthelmess   |                     The Noose                     |\n",
       "| 1928 |     Actor      |  1.0   |      Emil Jannings      |                  The Last Command                 |\n",
       "| 1928 |    Actress     |  None  |      Louise Dresser     |                  A Ship Comes In                  |\n",
       "| 1928 |    Actress     |  1.0   |       Janet Gaynor      |                     7th Heaven                    |\n",
       "| 1928 |    Actress     |  None  |      Gloria Swanson     |                   Sadie Thompson                  |\n",
       "| 1928 | Art Direction  |  None  |      Rochus Gliese      |                      Sunrise                      |\n",
       "| 1928 | Art Direction  |  1.0   | William Cameron Menzies |                 The Dove; Tempest                 |\n",
       "| 1928 | Art Direction  |  None  |       Harry Oliver      |                     7th Heaven                    |\n",
       "| 1928 | Cinematography |  None  |      George Barnes      | The Devil Dancer; The Magic Flame; Sadie Thompson |\n",
       "| 1928 | Cinematography |  1.0   |      Charles Rosher     |                      Sunrise                      |\n",
       "+------+----------------+--------+-------------------------+---------------------------------------------------+\n",
       "Truncated to displaylimit of 10."
      ]
     },
     "execution_count": 92,
     "metadata": {},
     "output_type": "execute_result"
    }
   ],
   "source": [
    "%%sql\n",
    "SELECT *\n",
    "FROM oscars;"
   ]
  },
  {
   "cell_type": "code",
   "execution_count": null,
   "id": "3eb8234b",
   "metadata": {},
   "outputs": [],
   "source": [
    "Which award category has the highest number of actor nominations (actors can be male or female)? (Hint: Oscars.name contains both actors' names and film names.)"
   ]
  },
  {
   "cell_type": "code",
   "execution_count": 98,
   "id": "8dba31ba",
   "metadata": {},
   "outputs": [
    {
     "data": {
      "text/html": [
       "<span style=\"None\">Running query in &#x27;sqlite:///TMDB-a-4006.db&#x27;</span>"
      ],
      "text/plain": [
       "Running query in 'sqlite:///TMDB-a-4006.db'"
      ]
     },
     "metadata": {},
     "output_type": "display_data"
    },
    {
     "data": {
      "text/html": [
       "<table>\n",
       "    <thead>\n",
       "        <tr>\n",
       "            <th>award</th>\n",
       "            <th>number_of_actor_nominations</th>\n",
       "        </tr>\n",
       "    </thead>\n",
       "    <tbody>\n",
       "        <tr>\n",
       "            <td>Actor in a Supporting Role</td>\n",
       "            <td>356</td>\n",
       "        </tr>\n",
       "        <tr>\n",
       "            <td>Actress in a Supporting Role</td>\n",
       "            <td>331</td>\n",
       "        </tr>\n",
       "        <tr>\n",
       "            <td>Actress in a Leading Role</td>\n",
       "            <td>198</td>\n",
       "        </tr>\n",
       "        <tr>\n",
       "            <td>Actor in a Leading Role</td>\n",
       "            <td>197</td>\n",
       "        </tr>\n",
       "        <tr>\n",
       "            <td>Actor</td>\n",
       "            <td>184</td>\n",
       "        </tr>\n",
       "        <tr>\n",
       "            <td>Actress</td>\n",
       "            <td>145</td>\n",
       "        </tr>\n",
       "        <tr>\n",
       "            <td>Honorary Award</td>\n",
       "            <td>35</td>\n",
       "        </tr>\n",
       "        <tr>\n",
       "            <td>Jean Hersholt Humanitarian Award</td>\n",
       "            <td>15</td>\n",
       "        </tr>\n",
       "        <tr>\n",
       "            <td>Special Award</td>\n",
       "            <td>14</td>\n",
       "        </tr>\n",
       "        <tr>\n",
       "            <td>Irving G. Thalberg Memorial Award</td>\n",
       "            <td>12</td>\n",
       "        </tr>\n",
       "    </tbody>\n",
       "</table>\n",
       "<span style=\"font-style:italic;text-align:center;\">Truncated to <a href=\"https://jupysql.ploomber.io/en/latest/api/configuration.html#displaylimit\">displaylimit</a> of 10.</span>"
      ],
      "text/plain": [
       "+-----------------------------------+-----------------------------+\n",
       "|               award               | number_of_actor_nominations |\n",
       "+-----------------------------------+-----------------------------+\n",
       "|     Actor in a Supporting Role    |             356             |\n",
       "|    Actress in a Supporting Role   |             331             |\n",
       "|     Actress in a Leading Role     |             198             |\n",
       "|      Actor in a Leading Role      |             197             |\n",
       "|               Actor               |             184             |\n",
       "|              Actress              |             145             |\n",
       "|           Honorary Award          |              35             |\n",
       "|  Jean Hersholt Humanitarian Award |              15             |\n",
       "|           Special Award           |              14             |\n",
       "| Irving G. Thalberg Memorial Award |              12             |\n",
       "+-----------------------------------+-----------------------------+\n",
       "Truncated to displaylimit of 10."
      ]
     },
     "execution_count": 98,
     "metadata": {},
     "output_type": "execute_result"
    }
   ],
   "source": [
    "%%sql\n",
    "SELECT o.award, \n",
    "COUNT(a.actor_name) as number_of_actor_nominations\n",
    "FROM oscars as o\n",
    "JOIN actors a\n",
    "ON o.name = a.actor_name\n",
    "GROUP BY o.award\n",
    "ORDER BY number_of_actor_nominations DESC;"
   ]
  },
  {
   "cell_type": "code",
   "execution_count": null,
   "id": "d60e0cf1",
   "metadata": {},
   "outputs": [],
   "source": [
    "DStv will be having a special week dedicated to the actor Alan Rickman. Which of the following queries would create a new view that shows the titles, release dates, taglines, and overviews of all movies that Alan Rickman has played in?"
   ]
  },
  {
   "cell_type": "code",
   "execution_count": 114,
   "id": "e59d84d6",
   "metadata": {},
   "outputs": [
    {
     "data": {
      "text/html": [
       "<span style=\"None\">Running query in &#x27;sqlite:///TMDB-a-4006.db&#x27;</span>"
      ],
      "text/plain": [
       "Running query in 'sqlite:///TMDB-a-4006.db'"
      ]
     },
     "metadata": {},
     "output_type": "display_data"
    },
    {
     "data": {
      "text/html": [
       "<table>\n",
       "    <thead>\n",
       "        <tr>\n",
       "        </tr>\n",
       "    </thead>\n",
       "    <tbody>\n",
       "    </tbody>\n",
       "</table>"
      ],
      "text/plain": [
       "++\n",
       "||\n",
       "++\n",
       "++"
      ]
     },
     "execution_count": 114,
     "metadata": {},
     "output_type": "execute_result"
    }
   ],
   "source": [
    "%%sql\n",
    "DROP VIEW IF EXISTS Alan_Rickman_Movies;\n",
    "CREATE VIEW Alan_Rickman_Movies AS \n",
    "SELECT title, release_date, tagline, overview\n",
    "FROM Movies \n",
    "LEFT JOIN Casts \n",
    "ON Casts.movie_id = Movies.movie_id \n",
    "JOIN Actors \n",
    "ON Casts.actor_id = Actors.actor_id \n",
    "WHERE Actors.actor_name = 'Alan Rickman';"
   ]
  },
  {
   "cell_type": "code",
   "execution_count": null,
   "id": "69a337fd",
   "metadata": {},
   "outputs": [],
   "source": [
    "DStv will be having a special week dedicated to the actor Alan Rickman. Which of the following queries would create a new view that shows the titles, release dates, taglines, and overviews of all movies that Alan Rickman has played in?"
   ]
  },
  {
   "cell_type": "code",
   "execution_count": 115,
   "id": "e4bdfc7e",
   "metadata": {},
   "outputs": [
    {
     "data": {
      "text/html": [
       "<span style=\"None\">Running query in &#x27;sqlite:///TMDB-a-4006.db&#x27;</span>"
      ],
      "text/plain": [
       "Running query in 'sqlite:///TMDB-a-4006.db'"
      ]
     },
     "metadata": {},
     "output_type": "display_data"
    },
    {
     "data": {
      "text/html": [
       "<table>\n",
       "    <thead>\n",
       "        <tr>\n",
       "            <th>title</th>\n",
       "            <th>release_date</th>\n",
       "            <th>tagline</th>\n",
       "            <th>overview</th>\n",
       "        </tr>\n",
       "    </thead>\n",
       "    <tbody>\n",
       "        <tr>\n",
       "            <td>Love Actually</td>\n",
       "            <td>2003-09-07 00:00:00.000000</td>\n",
       "            <td>The ultimate romantic comedy.</td>\n",
       "            <td>Follows seemingly unrelated people as their lives begin to intertwine while they fall in û and out û of love. Affections languish and develop as Christmas draws near.</td>\n",
       "        </tr>\n",
       "        <tr>\n",
       "            <td>Die Hard</td>\n",
       "            <td>1988-07-15 00:00:00.000000</td>\n",
       "            <td>40 Stories. Twelve Terrorists. One Cop.</td>\n",
       "            <td>NYPD cop, John McClane's plan to reconcile with his estranged wife is thrown for a serious loop when minutes after he arrives at her office, the entire building is overtaken by a group of terrorists. With little help from the LAPD, wisecracking McClane sets out to single-handedly rescue the hostages and bring the bad guys down.</td>\n",
       "        </tr>\n",
       "        <tr>\n",
       "            <td>Harry Potter and the Philosopher's Stone</td>\n",
       "            <td>2001-11-16 00:00:00.000000</td>\n",
       "            <td>Let the Magic Begin.</td>\n",
       "            <td>Harry Potter has lived under the stairs at his aunt and uncle's house his whole life. But on his 11th birthday, he learns he's a powerful wizard -- with a place waiting for him at the Hogwarts School of Witchcraft and Wizardry. As he learns to harness his newfound powers with the help of the school's kindly headmaster, Harry uncovers the truth about his parents' deaths -- and about the villain who's to blame.</td>\n",
       "        </tr>\n",
       "        <tr>\n",
       "            <td>Harry Potter and the Chamber of Secrets</td>\n",
       "            <td>2002-11-13 00:00:00.000000</td>\n",
       "            <td>Hogwarts is back in session.</td>\n",
       "            <td>Ignoring threats to his life, Harry returns to Hogwarts to investigate û aided by Ron and Hermione û a mysterious series of attacks.</td>\n",
       "        </tr>\n",
       "        <tr>\n",
       "            <td>Harry Potter and the Prisoner of Azkaban</td>\n",
       "            <td>2004-05-31 00:00:00.000000</td>\n",
       "            <td>Something wicked this way comes.</td>\n",
       "            <td>Harry, Ron and Hermione return to Hogwarts for another magic-filled year. Harry comes face to face with danger yet again, this time in the form of escaped convict, Sirius Black û and turns to sympathetic Professor Lupin for help.</td>\n",
       "        </tr>\n",
       "        <tr>\n",
       "            <td>Harry Potter and the Goblet of Fire</td>\n",
       "            <td>2005-11-05 00:00:00.000000</td>\n",
       "            <td>Dark And Difficult Times Lie Ahead.</td>\n",
       "            <td>Harry starts his fourth year at Hogwarts, competes in the treacherous Triwizard Tournament and faces the evil Lord Voldemort. Ron and Hermione help Harry manage the pressure û but Voldemort lurks, awaiting his chance to destroy Harry and all that he stands for.</td>\n",
       "        </tr>\n",
       "        <tr>\n",
       "            <td>Harry Potter and the Order of the Phoenix</td>\n",
       "            <td>2007-06-28 00:00:00.000000</td>\n",
       "            <td>Evil Must Be Confronted.</td>\n",
       "            <td>Returning for his fifth year of study at Hogwarts, Harry is stunned to find that his warnings about the return of Lord Voldemort have been ignored. Left with no choice, Harry takes matters into his own hands, training a small group of students û dubbed 'Dumbledore's Army' û to defend themselves against the dark arts.</td>\n",
       "        </tr>\n",
       "        <tr>\n",
       "            <td>Harry Potter and the Half-Blood Prince</td>\n",
       "            <td>2009-07-07 00:00:00.000000</td>\n",
       "            <td>Dark Secrets Revealed</td>\n",
       "            <td>As Harry begins his sixth year at Hogwarts, he discovers an old book marked as 'Property of the Half-Blood Prince', and begins to learn more about Lord Voldemort's dark past.</td>\n",
       "        </tr>\n",
       "        <tr>\n",
       "            <td>Galaxy Quest</td>\n",
       "            <td>1999-12-23 00:00:00.000000</td>\n",
       "            <td>A comedy of Galactic Proportions.</td>\n",
       "            <td>The stars of a 1970s sci-fi show - now scraping a living through re-runs and sci-fi conventions - are beamed aboard an alien spacecraft. Believing the cast's heroic on-screen dramas are historical documents of real-life adventures, the band of aliens turn to the ailing celebrities for help in their quest to overcome the oppressive regime in their solar system.</td>\n",
       "        </tr>\n",
       "        <tr>\n",
       "            <td>Perfume: The Story of a Murderer</td>\n",
       "            <td>2006-09-13 00:00:00.000000</td>\n",
       "            <td>Based on the best-selling novel</td>\n",
       "            <td>Jean-Baptiste Grenouille, born in the stench of 18th century Paris, develops a superior olfactory sense, which he uses to create the world's finest perfumes. However, his work takes a dark turn as he tries to preserve scents in the search for the ultimate perfume.</td>\n",
       "        </tr>\n",
       "    </tbody>\n",
       "</table>\n",
       "<span style=\"font-style:italic;text-align:center;\">Truncated to <a href=\"https://jupysql.ploomber.io/en/latest/api/configuration.html#displaylimit\">displaylimit</a> of 10.</span>"
      ],
      "text/plain": [
       "+-------------------------------------------+----------------------------+-----------------------------------------+------------------------------------------------------------------------------------------------------------------------------------------------------------------------------------------------------------------------------------------------------------------------------------------------------------------------------------------------------------------------------------------------------------------------------+\n",
       "|                   title                   |        release_date        |                 tagline                 |                                                                                                                                                                                                           overview                                                                                                                                                                                                           |\n",
       "+-------------------------------------------+----------------------------+-----------------------------------------+------------------------------------------------------------------------------------------------------------------------------------------------------------------------------------------------------------------------------------------------------------------------------------------------------------------------------------------------------------------------------------------------------------------------------+\n",
       "|               Love Actually               | 2003-09-07 00:00:00.000000 |      The ultimate romantic comedy.      |                                                                                                                            Follows seemingly unrelated people as their lives begin to intertwine while they fall in û and out û of love. Affections languish and develop as Christmas draws near.                                                                                                                            |\n",
       "|                  Die Hard                 | 1988-07-15 00:00:00.000000 | 40 Stories. Twelve Terrorists. One Cop. |                                          NYPD cop, John McClane's plan to reconcile with his estranged wife is thrown for a serious loop when minutes after he arrives at her office, the entire building is overtaken by a group of terrorists. With little help from the LAPD, wisecracking McClane sets out to single-handedly rescue the hostages and bring the bad guys down.                                           |\n",
       "|  Harry Potter and the Philosopher's Stone | 2001-11-16 00:00:00.000000 |           Let the Magic Begin.          | Harry Potter has lived under the stairs at his aunt and uncle's house his whole life. But on his 11th birthday, he learns he's a powerful wizard -- with a place waiting for him at the Hogwarts School of Witchcraft and Wizardry. As he learns to harness his newfound powers with the help of the school's kindly headmaster, Harry uncovers the truth about his parents' deaths -- and about the villain who's to blame. |\n",
       "|  Harry Potter and the Chamber of Secrets  | 2002-11-13 00:00:00.000000 |       Hogwarts is back in session.      |                                                                                                                                             Ignoring threats to his life, Harry returns to Hogwarts to investigate û aided by Ron and Hermione û a mysterious series of attacks.                                                                                                                                             |\n",
       "|  Harry Potter and the Prisoner of Azkaban | 2004-05-31 00:00:00.000000 |     Something wicked this way comes.    |                                                                                            Harry, Ron and Hermione return to Hogwarts for another magic-filled year. Harry comes face to face with danger yet again, this time in the form of escaped convict, Sirius Black û and turns to sympathetic Professor Lupin for help.                                                                                             |\n",
       "|    Harry Potter and the Goblet of Fire    | 2005-11-05 00:00:00.000000 |   Dark And Difficult Times Lie Ahead.   |                                                                            Harry starts his fourth year at Hogwarts, competes in the treacherous Triwizard Tournament and faces the evil Lord Voldemort. Ron and Hermione help Harry manage the pressure û but Voldemort lurks, awaiting his chance to destroy Harry and all that he stands for.                                                                             |\n",
       "| Harry Potter and the Order of the Phoenix | 2007-06-28 00:00:00.000000 |         Evil Must Be Confronted.        |                                                Returning for his fifth year of study at Hogwarts, Harry is stunned to find that his warnings about the return of Lord Voldemort have been ignored. Left with no choice, Harry takes matters into his own hands, training a small group of students û dubbed 'Dumbledore's Army' û to defend themselves against the dark arts.                                                |\n",
       "|   Harry Potter and the Half-Blood Prince  | 2009-07-07 00:00:00.000000 |          Dark Secrets Revealed          |                                                                                                                        As Harry begins his sixth year at Hogwarts, he discovers an old book marked as 'Property of the Half-Blood Prince', and begins to learn more about Lord Voldemort's dark past.                                                                                                                        |\n",
       "|                Galaxy Quest               | 1999-12-23 00:00:00.000000 |    A comedy of Galactic Proportions.    |                          The stars of a 1970s sci-fi show - now scraping a living through re-runs and sci-fi conventions - are beamed aboard an alien spacecraft. Believing the cast's heroic on-screen dramas are historical documents of real-life adventures, the band of aliens turn to the ailing celebrities for help in their quest to overcome the oppressive regime in their solar system.                          |\n",
       "|      Perfume: The Story of a Murderer     | 2006-09-13 00:00:00.000000 |     Based on the best-selling novel     |                                                                           Jean-Baptiste Grenouille, born in the stench of 18th century Paris, develops a superior olfactory sense, which he uses to create the world's finest perfumes. However, his work takes a dark turn as he tries to preserve scents in the search for the ultimate perfume.                                                                           |\n",
       "+-------------------------------------------+----------------------------+-----------------------------------------+------------------------------------------------------------------------------------------------------------------------------------------------------------------------------------------------------------------------------------------------------------------------------------------------------------------------------------------------------------------------------------------------------------------------------+\n",
       "Truncated to displaylimit of 10."
      ]
     },
     "execution_count": 115,
     "metadata": {},
     "output_type": "execute_result"
    }
   ],
   "source": [
    "%%sql\n",
    "SELECT *\n",
    "FROM Alan_Rickman_Movies;"
   ]
  },
  {
   "cell_type": "code",
   "execution_count": null,
   "id": "4273abdf",
   "metadata": {},
   "outputs": [],
   "source": []
  }
 ],
 "metadata": {
  "kernelspec": {
   "display_name": "Python 3 (ipykernel)",
   "language": "python",
   "name": "python3"
  },
  "language_info": {
   "codemirror_mode": {
    "name": "ipython",
    "version": 3
   },
   "file_extension": ".py",
   "mimetype": "text/x-python",
   "name": "python",
   "nbconvert_exporter": "python",
   "pygments_lexer": "ipython3",
   "version": "3.11.5"
  }
 },
 "nbformat": 4,
 "nbformat_minor": 5
}
